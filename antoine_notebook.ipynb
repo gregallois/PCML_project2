{
 "cells": [
  {
   "cell_type": "markdown",
   "metadata": {
    "collapsed": true
   },
   "source": [
    "## Notebook d'Antoine - Copie de Marc"
   ]
  },
  {
   "cell_type": "markdown",
   "metadata": {},
   "source": [
    "## 1) import usefuls module"
   ]
  },
  {
   "cell_type": "code",
   "execution_count": 1,
   "metadata": {
    "collapsed": false
   },
   "outputs": [],
   "source": [
    "%matplotlib inline\n",
    "import numpy as np\n",
    "import matplotlib.pyplot as plt\n",
    "import math \n",
    "\n",
    "from itertools import groupby\n",
    "from helpers import *\n",
    "from helpers_marc import *\n",
    "from plots import *\n",
    "import scipy\n",
    "import scipy.io\n",
    "import numpy as np\n",
    "import scipy.sparse as sp\n",
    "\n",
    "%load_ext autoreload\n",
    "%autoreload 2"
   ]
  },
  {
   "cell_type": "markdown",
   "metadata": {},
   "source": [
    "## 2) Load the data"
   ]
  },
  {
   "cell_type": "code",
   "execution_count": 2,
   "metadata": {
    "collapsed": false
   },
   "outputs": [
    {
     "name": "stdout",
     "output_type": "stream",
     "text": [
      "number of items: 10000, number of users: 1000\n"
     ]
    }
   ],
   "source": [
    "# write here the path to the dataset\n",
    "path_dataset = \"datasets/data_train.csv\"\n",
    "\n",
    "# load the data \n",
    "ratings = load_data(path_dataset)"
   ]
  },
  {
   "cell_type": "markdown",
   "metadata": {},
   "source": [
    "## 3) Split the data "
   ]
  },
  {
   "cell_type": "code",
   "execution_count": 3,
   "metadata": {
    "collapsed": false
   },
   "outputs": [
    {
     "data": {
      "image/png": "[encoded data removed]",
      "text/plain": [
       "<matplotlib.figure.Figure at 0x7f8338205bd0>"
      ]
     },
     "metadata": {},
     "output_type": "display_data"
    }
   ],
   "source": [
    "# First get the numbers of ratings per user and ratings per film \n",
    "# And plot these values\n",
    "\n",
    "num_items_per_user, num_users_per_item = plot_raw_data(ratings)\n"
   ]
  },
  {
   "cell_type": "code",
   "execution_count": 4,
   "metadata": {
    "collapsed": false
   },
   "outputs": [
    {
     "name": "stdout",
     "output_type": "stream",
     "text": [
      "Total number of nonzero elements in origial data:1176952\n",
      "Total number of nonzero elements in train data:236194\n",
      "Total number of nonzero elements in test data:940679\n"
     ]
    },
    {
     "data": {
      "image/png": "[encoded data removed]",
      "text/plain": [
       "<matplotlib.figure.Figure at 0x7f83382bc4d0>"
      ]
     },
     "metadata": {},
     "output_type": "display_data"
    }
   ],
   "source": [
    "# then select the items and users for which there are enough data\n",
    "# and split the datan into a training set and a test set\n",
    "\n",
    "# minimal number of data per user and per item\n",
    "min_num_ratings = 10 \n",
    "\n",
    "# fraction of the data set that will be the test set \n",
    "p_test = 0.8\n",
    "\n",
    "valid_ratings, train, test = split_data(ratings, num_items_per_user, num_users_per_item, min_num_ratings, p_test)\n",
    "# plot the resulting training and test set \n",
    "plot_train_test_data(train, test)"
   ]
  },
  {
   "cell_type": "code",
   "execution_count": 5,
   "metadata": {
    "collapsed": false
   },
   "outputs": [
    {
     "name": "stdout",
     "output_type": "stream",
     "text": [
      "<class 'scipy.sparse.lil.lil_matrix'>\n"
     ]
    }
   ],
   "source": [
    "print(type(train))\n",
    "initial_train = train.todense()"
   ]
  },
  {
   "cell_type": "markdown",
   "metadata": {},
   "source": [
    "#### Reinitialize the Matrix before Factorization"
   ]
  },
  {
   "cell_type": "code",
   "execution_count": 19,
   "metadata": {
    "collapsed": false
   },
   "outputs": [],
   "source": [
    "def reinitialize(initial_train, gen_train):\n",
    "    gen_train[initial_train > 0] = 0\n",
    "    return initial_train + gen_train"
   ]
  },
  {
   "cell_type": "markdown",
   "metadata": {},
   "source": [
    "## 4) Matrix Factorization through Stochastic Gradient Descent "
   ]
  },
  {
   "cell_type": "code",
   "execution_count": 29,
   "metadata": {
    "collapsed": false,
    "scrolled": true
   },
   "outputs": [
    {
     "name": "stdout",
     "output_type": "stream",
     "text": [
      "[[ 4.09  4.09  4.09  4.09  4.09  4.09  4.09  4.09]\n",
      " [ 4.09  4.09  4.09  4.09  4.09  4.09  4.09  4.09]\n",
      " [ 4.09  4.09  4.09  4.09  4.09  4.09  4.09  4.09]\n",
      " [ 4.09  4.09  4.09  4.09  4.09  4.09  4.09  4.09]\n",
      " [ 4.09  2.    4.09  4.09  4.09  4.09  4.09  4.09]\n",
      " [ 4.09  4.09  4.09  4.09  4.09  5.    4.09  4.09]\n",
      " [ 4.09  4.09  4.09  4.09  4.09  4.09  4.09  4.09]\n",
      " [ 4.09  4.09  4.09  4.09  4.09  4.09  4.09  4.09]]\n",
      "('violation:', 1.0)\n",
      "('violation:', 0.05881890942386996)\n",
      "('violation:', 0.03943260222094166)\n",
      "('violation:', 0.03141480565111298)\n",
      "('violation:', 0.02722503173938012)\n",
      "('violation:', 0.024626895019697108)\n",
      "('violation:', 0.023596183879607113)\n",
      "('violation:', 0.020325109402143444)\n",
      "('violation:', 0.01815725762125298)\n",
      "('violation:', 0.016558645390479063)\n",
      "[[ 14.72834792   8.41251489   4.65032534   2.38893026   0.89854697\n",
      "    1.01441677   0.38792298   0.14938941]\n",
      " [ 12.91650261   7.64862042   4.24876922   2.35691581   0.66724176\n",
      "    0.81088091   0.29713221   0.09313202]\n",
      " [ 13.89752238   8.10141651   4.49258084   2.19511076   0.83939802\n",
      "    0.95915664   0.32240959   0.16486835]\n",
      " [ 14.27664534   8.19111352   4.52842734   2.50611668   0.72286862\n",
      "    0.96033845   0.48266487   0.18035433]\n",
      " [ 13.65223152   2.           4.36599075   2.2023783    1.12072803\n",
      "    0.85735411   0.25024437   0.18884361]\n",
      " [ 12.74315377   7.49836197   4.30114878   2.31985947   1.02181672   5.\n",
      "    0.49868522   0.03981301]\n",
      " [ 13.39429813   7.76156417   4.30140762   2.26154269   0.78977249\n",
      "    0.8303209    0.35536622   0.11800048]\n",
      " [ 14.25370705   8.18666832   4.46358634   2.40244427   0.86563667\n",
      "    0.81766284   0.32873947   0.07458163]]\n",
      "('violation:', 1.0)\n",
      "('violation:', 0.34057419970293495)\n",
      "('violation:', 0.19977690232031428)\n",
      "('violation:', 0.21875512522551832)\n",
      "('violation:', 0.20606333307435615)\n",
      "('violation:', 0.1821357226320043)\n",
      "('violation:', 0.15074988388852648)\n",
      "('violation:', 0.11857724238003378)\n",
      "('violation:', 0.0962749688442754)\n",
      "('violation:', 0.07781269471771268)\n",
      "('violation:', 1.0)\n",
      "('violation:', 0.29858913015628097)\n",
      "('violation:', 0.18665320550625208)\n",
      "('violation:', 0.14214974813093323)\n",
      "('violation:', 0.10113272627797493)\n",
      "('violation:', 0.07043519756047029)\n",
      "('violation:', 0.048630298110007554)\n",
      "('violation:', 0.034951132340048485)\n",
      "('violation:', 0.026537506399866295)\n",
      "('violation:', 0.02014128971352433)\n",
      "('violation:', 1.0)\n",
      "('violation:', 0.30068552566465667)\n",
      "('violation:', 0.19476776536209375)\n",
      "('violation:', 0.1481705265038994)\n",
      "('violation:', 0.10522598558024714)\n",
      "('violation:', 0.06815039164199839)\n",
      "('violation:', 0.047853482485437124)\n",
      "('violation:', 0.03296844007507846)\n",
      "('violation:', 0.02451838161423397)\n",
      "('violation:', 0.018997183198236865)\n",
      "('violation:', 1.0)\n",
      "('violation:', 0.2999942279144183)\n",
      "('violation:', 0.19537685786832085)\n",
      "('violation:', 0.14893917742443394)\n",
      "('violation:', 0.10391251265464757)\n",
      "('violation:', 0.06755882573336036)\n",
      "('violation:', 0.04448221230553289)\n",
      "('violation:', 0.030368955729875337)\n",
      "('violation:', 0.021502212840456565)\n",
      "('violation:', 0.016763043280515144)\n",
      "('violation:', 1.0)\n",
      "('violation:', 0.30095756648676547)\n",
      "('violation:', 0.19618122574763766)\n",
      "('violation:', 0.14716340582665588)\n",
      "('violation:', 0.09967612757791797)\n",
      "('violation:', 0.0662009633992693)\n",
      "('violation:', 0.04635959810852321)\n",
      "('violation:', 0.03279948226305207)\n",
      "('violation:', 0.023790932109744433)\n",
      "('violation:', 0.018148706540025476)\n",
      "('violation:', 1.0)\n",
      "('violation:', 0.30041374280762295)\n",
      "('violation:', 0.1963831140481967)\n",
      "('violation:', 0.14965627629260256)\n",
      "('violation:', 0.10134001552194355)\n",
      "('violation:', 0.0683108332252497)\n",
      "('violation:', 0.045223729741385194)\n",
      "('violation:', 0.030891959960725898)\n",
      "('violation:', 0.022169469310088747)\n",
      "('violation:', 0.01661419050902855)\n",
      "('violation:', 1.0)\n",
      "('violation:', 0.3002148549071147)\n",
      "('violation:', 0.195369382691101)\n",
      "('violation:', 0.1472056983300582)\n",
      "('violation:', 0.10265018911825366)\n",
      "('violation:', 0.06614191208275752)\n",
      "('violation:', 0.04349821924078943)\n",
      "('violation:', 0.029940182504281244)\n",
      "('violation:', 0.02163110240419412)\n",
      "('violation:', 0.016120469689872352)\n",
      "('violation:', 1.0)\n",
      "('violation:', 0.30156153543590003)\n",
      "('violation:', 0.19570131762514656)\n",
      "('violation:', 0.14709885942392426)\n",
      "('violation:', 0.10246843429110353)\n",
      "('violation:', 0.06718233426252014)\n",
      "('violation:', 0.043073713902772995)\n",
      "('violation:', 0.0316056866057455)\n",
      "('violation:', 0.02386948229919051)\n",
      "('violation:', 0.017171368596780257)\n",
      "('violation:', 1.0)\n",
      "('violation:', 0.30039001057152437)\n",
      "('violation:', 0.19512744822418687)\n",
      "('violation:', 0.14706990410993526)\n",
      "('violation:', 0.10109012355021818)\n",
      "('violation:', 0.06702947272148374)\n",
      "('violation:', 0.04431654753801699)\n",
      "('violation:', 0.03178357297402341)\n",
      "('violation:', 0.0238400174706922)\n",
      "('violation:', 0.017926018699040265)\n",
      "('violation:', 1.0)\n",
      "('violation:', 0.30146724346267717)\n",
      "('violation:', 0.19696451469026258)\n",
      "('violation:', 0.14806902001285463)\n",
      "('violation:', 0.09980364285491039)\n",
      "('violation:', 0.06699407873635738)\n",
      "('violation:', 0.04581225337823963)\n",
      "('violation:', 0.031650998463667646)\n",
      "('violation:', 0.022760046142555508)\n",
      "('violation:', 0.016508396208068963)\n"
     ]
    }
   ],
   "source": [
    "from sklearn.decomposition import NMF\n",
    "import copy\n",
    "\n",
    "\n",
    "model = NMF(max_iter=10, verbose=1, alpha=0.02, tol=0.005, init='random', random_state=0)\n",
    "#predicted_train = model.fit_transform(train)\n",
    "gen_train = copy.deepcopy(initial_train)\n",
    "gen_train[gen_train == 0] = 4.09\n",
    "print(gen_train[:8,:8])\n",
    "gen_train = model.fit_transform(gen_train)\n",
    "gen_train = reinitialize(initial_train, gen_train)\n",
    "print(gen_train[:8,:8])\n",
    "for i in range(4):\n",
    "    gen_train = model.fit_transform(gen_train)\n",
    "    gen_train = reinitialize(initial_train, gen_train)\n",
    "    \n",
    "\n"
   ]
  },
  {
   "cell_type": "code",
   "execution_count": 26,
   "metadata": {
    "collapsed": false,
    "scrolled": true
   },
   "outputs": [
    {
     "name": "stdout",
     "output_type": "stream",
     "text": [
      "[[ 0.          0.          0.07539269  0.          0.          0.          0.\n",
      "   0.        ]\n",
      " [ 0.          0.          0.          0.          0.          0.          0.\n",
      "   0.        ]\n",
      " [ 0.          0.          0.          0.          0.          0.          0.\n",
      "   0.        ]\n",
      " [ 0.          0.          0.          0.          0.          0.          0.\n",
      "   0.        ]\n",
      " [ 0.          2.          0.          0.          0.          0.          0.\n",
      "   0.        ]\n",
      " [ 0.          0.          0.          0.          0.          5.\n",
      "   1.21110106  0.        ]\n",
      " [ 0.          0.          0.          0.          0.          0.13200563\n",
      "   0.          0.        ]\n",
      " [ 0.          0.          0.          0.          0.          0.          0.\n",
      "   0.        ]]\n",
      "[[ 0.  0.  0.  0.  0.  0.  0.  0.]\n",
      " [ 0.  0.  0.  0.  0.  0.  0.  0.]\n",
      " [ 0.  0.  0.  0.  0.  0.  0.  0.]\n",
      " [ 0.  0.  0.  0.  0.  0.  0.  0.]\n",
      " [ 0.  2.  0.  0.  0.  0.  0.  0.]\n",
      " [ 0.  0.  0.  0.  0.  5.  0.  0.]\n",
      " [ 0.  0.  0.  0.  0.  0.  0.  0.]\n",
      " [ 0.  0.  0.  0.  0.  0.  0.  0.]]\n"
     ]
    }
   ],
   "source": [
    "print(gen_train[:8,:8])"
   ]
  },
  {
   "cell_type": "markdown",
   "metadata": {},
   "source": [
    "## 6) Prediction using Scikit Learn Library"
   ]
  },
  {
   "cell_type": "code",
   "execution_count": null,
   "metadata": {
    "collapsed": false
   },
   "outputs": [],
   "source": [
    "print(model.reconstruction_err_)\n",
    "res = model.transform(test)"
   ]
  },
  {
   "cell_type": "code",
   "execution_count": null,
   "metadata": {
    "collapsed": false
   },
   "outputs": [],
   "source": [
    "mse = calculate_mse(test, res)\n",
    "print(mse)"
   ]
  },
  {
   "cell_type": "code",
   "execution_count": null,
   "metadata": {
    "collapsed": false
   },
   "outputs": [],
   "source": [
    "print(res[0:10,0:10])\n",
    "print(test[0:10,0:10])"
   ]
  },
  {
   "cell_type": "code",
   "execution_count": null,
   "metadata": {
    "collapsed": false
   },
   "outputs": [],
   "source": [
    "path_evaluation = \"datasets/sampleSubmission.csv\"\n",
    "ratings_submit = load_data(path_evaluation)\n",
    "evaluated_on = ratings_submit.toarray()\n",
    "evaluated_on = evaluated_on.astype(np.float)"
   ]
  },
  {
   "cell_type": "code",
   "execution_count": null,
   "metadata": {
    "collapsed": true
   },
   "outputs": [],
   "source": [
    "matrix2file(filename, res, evaluated_on)"
   ]
  },
  {
   "cell_type": "code",
   "execution_count": null,
   "metadata": {
    "collapsed": true
   },
   "outputs": [],
   "source": [
    "# compute the csv file to store the results\n",
    "\n",
    "filename = \"datasets/result_antoine.csv\"\n",
    "\n",
    "matrix2file(filename, prediction, evaluated_on)"
   ]
  }
 ],
 "metadata": {
  "anaconda-cloud": {},
  "kernelspec": {
   "display_name": "Python 2",
   "language": "python",
   "name": "python2"
  },
  "language_info": {
   "codemirror_mode": {
    "name": "ipython",
    "version": 2
   },
   "file_extension": ".py",
   "mimetype": "text/x-python",
   "name": "python",
   "nbconvert_exporter": "python",
   "pygments_lexer": "ipython2",
   "version": "2.7.9"
  }
 },
 "nbformat": 4,
 "nbformat_minor": 0
}
