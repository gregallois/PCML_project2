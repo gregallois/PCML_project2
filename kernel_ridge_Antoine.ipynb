{
 "cells": [
  {
   "cell_type": "markdown",
   "metadata": {
    "collapsed": true
   },
   "source": [
    "## ALS Antoine"
   ]
  },
  {
   "cell_type": "code",
   "execution_count": 5,
   "metadata": {
    "collapsed": false
   },
   "outputs": [],
   "source": [
    "#manuel\n",
    "best_rmse_test_als = 2\n",
    "best_k_als = 5\n",
    "best_reg_user = 1e-8\n",
    "best_reg_item = 0.01\n"
   ]
  },
  {
   "cell_type": "markdown",
   "metadata": {},
   "source": [
    "## Import usefuls module"
   ]
  },
  {
   "cell_type": "code",
   "execution_count": 11,
   "metadata": {
    "collapsed": false
   },
   "outputs": [
    {
     "name": "stdout",
     "output_type": "stream",
     "text": [
      "The autoreload extension is already loaded. To reload it, use:\n",
      "  %reload_ext autoreload\n"
     ]
    }
   ],
   "source": [
    "%matplotlib inline\n",
    "import numpy as np\n",
    "import matplotlib.pyplot as plt\n",
    "import math \n",
    "import dataiku\n",
    "from itertools import groupby\n",
    "from helpers import *\n",
    "from helpers_antoine import *\n",
    "from plots import *\n",
    "import time\n",
    "import scipy\n",
    "import scipy.io\n",
    "import numpy as np\n",
    "import scipy.sparse as sp\n",
    "\n",
    "%load_ext autoreload\n",
    "%autoreload 2"
   ]
  },
  {
   "cell_type": "markdown",
   "metadata": {},
   "source": [
    "## Load the data"
   ]
  },
  {
   "cell_type": "code",
   "execution_count": 3,
   "metadata": {
    "collapsed": false
   },
   "outputs": [
    {
     "name": "stdout",
     "output_type": "stream",
     "text": [
      "number of items: 10000, number of users: 1000\n"
     ]
    },
    {
     "data": {
      "image/png": "[encoded data removed]",
      "text/plain": [
       "<matplotlib.figure.Figure at 0x7f3f8de5dd10>"
      ]
     },
     "metadata": {},
     "output_type": "display_data"
    }
   ],
   "source": [
    "# write here the path to the dataset\n",
    "path_dataset = \"datasets/data_train.csv\"\n",
    "\n",
    "# load the data \n",
    "ratings = load_data(path_dataset)\n",
    "num_items_per_user, num_users_per_item = plot_raw_data(ratings)"
   ]
  },
  {
   "cell_type": "markdown",
   "metadata": {},
   "source": [
    "## Split the data "
   ]
  },
  {
   "cell_type": "code",
   "execution_count": 89,
   "metadata": {
    "collapsed": false
   },
   "outputs": [
    {
     "name": "stdout",
     "output_type": "stream",
     "text": [
      "Total number of nonzero elements in origial data:1176952\n",
      "Total number of nonzero elements in train data:1059292\n",
      "Total number of nonzero elements in test data:117660\n"
     ]
    }
   ],
   "source": [
    "# then select the items and users for which there are enough data\n",
    "# and split the datan into a training set and a test set\n",
    "\n",
    "# minimal number of data per user and per item\n",
    "min_num_ratings = 1\n",
    "\n",
    "# fraction of the data set that will be the test set \n",
    "p_test = 0.1\n",
    "\n",
    "valid_ratings, train, test = split_data(ratings, num_items_per_user, num_users_per_item, min_num_ratings, p_test)\n",
    "train = np.asarray(train.todense())\n",
    "test = np.asarray(test.todense())\n",
    "# plot the resulting training and test set \n",
    "#plot_train_test_data(train, test)"
   ]
  },
  {
   "cell_type": "markdown",
   "metadata": {
    "collapsed": true
   },
   "source": [
    "## Matrix Factorization Using alternative Least Square Method "
   ]
  },
  {
   "cell_type": "markdown",
   "metadata": {},
   "source": [
    "### Time tests"
   ]
  },
  {
   "cell_type": "code",
   "execution_count": null,
   "metadata": {
    "collapsed": false
   },
   "outputs": [
    {
     "name": "stdout",
     "output_type": "stream",
     "text": [
      "Preparation des données, init MF : 0.0 s\n",
      "Preparation des données, regroupement des features : 3.23 s\n",
      "Preparation des données, final step : 0.02 s\n",
      "    Preparation of the update user: 0.0 s\n",
      "    Loops for update user: 0.09 s\n",
      "User features update: 0.09 s\n",
      "Item features update: 0.41 s\n",
      "Shape of prediction after resize: 1059292\n",
      "Shape of M after resize: 1059292\n",
      "        Calcul des non-zero indices: 0.25 s\n",
      "        Adding all the indices: 0.59 s\n",
      "Computation of the indicators: 0.91 s\n",
      "    Preparation of the update user: 0.0 s\n",
      "    Loops for update user: 0.09 s\n",
      "User features update: 0.09 s\n",
      "Item features update: 0.42 s\n",
      "Shape of prediction after resize: 1059292\n",
      "Shape of M after resize: 1059292\n",
      "        Calcul des non-zero indices: 0.33 s\n",
      "        Adding all the indices: 0.61 s\n",
      "Computation of the indicators: 1.0 s\n",
      "    Preparation of the update user: 0.0 s\n",
      "    Loops for update user: 0.09 s\n",
      "User features update: 0.09 s\n",
      "Item features update: 0.42 s\n",
      "Shape of prediction after resize: 1059292\n",
      "Shape of M after resize: 1059292\n",
      "        Calcul des non-zero indices: 0.32 s\n",
      "        Adding all the indices: 0.61 s\n",
      "Computation of the indicators: 1.0 s\n",
      "    Preparation of the update user: 0.0 s\n",
      "    Loops for update user: 0.1 s\n",
      "User features update: 0.1 s\n",
      "Item features update: 0.43 s\n",
      "Shape of prediction after resize: 1059292\n",
      "Shape of M after resize: 1059292\n",
      "        Calcul des non-zero indices: 0.25 s\n",
      "        Adding all the indices: 0.6 s\n",
      "Computation of the indicators: 0.92 s\n",
      "Final time: 0.28 s\n"
     ]
    }
   ],
   "source": [
    "#Test of one loop of ALS, in order to identify how to make it faster.\n",
    "\n",
    "max_K =3\n",
    "\n",
    "# incrementation step for K\n",
    "step_K = 1\n",
    "\n",
    "# regularization parameters for the loss function \n",
    "lambda_user = 1e-8\n",
    "lambda_item = 1e-5\n",
    "\n",
    "\n",
    "# stop criterion\n",
    "stop_criterion = 1e-2\n",
    "\n",
    "# number of iterations of the alternative least squares method \n",
    "it_max = 10\n",
    "K = 2\n",
    "user_features, item_features, rmse_test = ALS(train, test, K, lambda_user, lambda_item, stop_criterion, it_max, True)"
   ]
  },
  {
   "cell_type": "markdown",
   "metadata": {},
   "source": [
    "### Main Grid Search"
   ]
  },
  {
   "cell_type": "code",
   "execution_count": null,
   "metadata": {
    "collapsed": false
   },
   "outputs": [
    {
     "name": "stdout",
     "output_type": "stream",
     "text": [
      "K=3, L_user=1e-09, l_item=1e-09, RMSE=0.996052606558\n",
      "K=3, L_user=1e-09, l_item=1e-08, RMSE=0.995854687243\n",
      "K=3, L_user=1e-09, l_item=1e-07, RMSE=0.995701003573\n",
      "K=3, L_user=1e-09, l_item=1e-06, RMSE=0.996358799832\n",
      "K=3, L_user=1e-09, l_item=1e-05, RMSE=0.995269477825\n",
      "K=3, L_user=1e-09, l_item=0.0001, RMSE=0.995150422496\n",
      "K=3, L_user=1e-09, l_item=0.001, RMSE=0.994567916561\n",
      "K=3, L_user=1e-09, l_item=0.01, RMSE=0.993852997011\n",
      "K=3, L_user=1e-09, l_item=0.1, RMSE=0.992513078258\n",
      "K=3, L_user=1e-09, l_item=1.0, RMSE=1.00050475067\n",
      "K=3, L_user=1e-08, l_item=1e-09, RMSE=0.995793776065\n",
      "K=3, L_user=1e-08, l_item=1e-08, RMSE=0.995866748597\n",
      "K=3, L_user=1e-08, l_item=1e-07, RMSE=0.995944621416\n",
      "K=3, L_user=1e-08, l_item=1e-06, RMSE=0.995322889861\n",
      "K=3, L_user=1e-08, l_item=1e-05, RMSE=1.06608884904\n"
     ]
    }
   ],
   "source": [
    "## Perform matrix factorization through stochastic gradient descent, for different numbers of features\n",
    "# (grid search on the number of feature)\n",
    "# keep the best number of feature, and the associated factorization\n",
    "\n",
    "## Parameters for the matrix factorization\n",
    "\n",
    "# maximum number of features fixed\n",
    "min_K = 3\n",
    "max_K = 10\n",
    "\n",
    "# incrementation step for K\n",
    "step_K = 1\n",
    "\n",
    "# regularization parameters for the loss function \n",
    "lambda_user = np.logspace(-9, 0, 10)\n",
    "lambda_item = np.logspace(-9, 0, 10)\n",
    "\n",
    "res_test= np.zeros((max_K-min_K+1,len(lambda_user),len(lambda_item)))\n",
    "\n",
    "# stop criterion\n",
    "stop_criterion = 1e-5\n",
    "\n",
    "# number of iterations of the alternative least squares method \n",
    "it_max = 50\n",
    "\n",
    "# initialization of variables refering to the matrix factorization for the best number\n",
    "best_rmse_test_als = float('Inf')\n",
    "best_k_als = 0\n",
    "best_user_feat_als = np.zeros(1)\n",
    "best_item_feat_als = np.zeros(1)\n",
    "\n",
    "for K in range(min_K,max_K+1,step_K):\n",
    "    \n",
    "    \n",
    "    for i, lu in enumerate(lambda_user):\n",
    "        for j, li in enumerate(lambda_item):\n",
    "            # compute the matrix factorization using alternative least squares method\n",
    "            user_features, item_features, rmse_test = ALS(train, test, K, lu, li, stop_criterion, it_max)\n",
    "            print(\"K=\"+str(K)+\", L_user=\"+str(lu)+\", l_item=\"+str(li) + \", RMSE=\" + str(rmse_test))\n",
    "            #print(\"rmse on test data for \", K, \" features : \", rmse_test)\n",
    "            res_test[K-min_K,i,j] = rmse_test\n",
    "            \n",
    "            if rmse_test < best_rmse_test_als:\n",
    "                # better rmse => update the references\n",
    "                best_rmse_test_als = rmse_test\n",
    "                best_k_als = K\n",
    "                best_reg_user = lu\n",
    "                best_reg_item = li\n",
    "                best_user_feat_als = user_features\n",
    "                best_item_feat_als = item_features\n",
    "        \n",
    "# print the results\n",
    "print(\"best number of features found : \", best_k_als)\n",
    "print(\"rmse on the test set for this number of features : \", best_rmse_test_als)"
   ]
  },
  {
   "cell_type": "markdown",
   "metadata": {},
   "source": [
    "## ALS Results and storage"
   ]
  },
  {
   "cell_type": "code",
   "execution_count": null,
   "metadata": {
    "collapsed": false
   },
   "outputs": [],
   "source": [
    "for K in range(min_K,max_K+1,step_K):\n",
    "    \n",
    "    print(\"als matrix factorization for the number of features : \", K)\n",
    "    for i, lu in enumerate(lambda_user):\n",
    "        for j, li in enumerate(lambda_item):\n",
    "            print(res_test[K-min_K,i,j])"
   ]
  },
  {
   "cell_type": "code",
   "execution_count": 94,
   "metadata": {
    "collapsed": false,
    "scrolled": true
   },
   "outputs": [
    {
     "name": "stdout",
     "output_type": "stream",
     "text": [
      "('als matrix factorization for the number of features : ', 3)\n",
      "('als matrix factorization for the number of features : ', 4)\n",
      "('als matrix factorization for the number of features : ', 5)\n",
      "('als matrix factorization for the number of features : ', 6)\n",
      "('als matrix factorization for the number of features : ', 7)\n",
      "('als matrix factorization for the number of features : ', 8)\n",
      "('als matrix factorization for the number of features : ', 9)\n",
      "('als matrix factorization for the number of features : ', 10)\n",
      "800 rows successfully written (9sQ8wtmAu7)\n"
     ]
    }
   ],
   "source": [
    "import dataiku\n",
    "import pandas as pd\n",
    "\n",
    "\n",
    "row_list  = []\n",
    "\n",
    "\n",
    "\n",
    "for K in range(min_K,max_K+1,step_K):\n",
    "    \n",
    "    print(\"als matrix factorization for the number of features : \", K)\n",
    "    for i, lu in enumerate(lambda_user):\n",
    "        for j, li in enumerate(lambda_item):\n",
    "            r = {}\n",
    "            r['K'] = K\n",
    "            r['li'] = li\n",
    "            r['lu'] = lu\n",
    "            r['val'] = res_test[K-min_K,i,j]\n",
    "            row_list.append(r)\n",
    "            #print(r)\n",
    "\n",
    "output = pd.DataFrame(row_list)\n",
    "#print(output)\n",
    "output_df = dataiku.Dataset(\"res_sample\")\n",
    "output_df.write_with_schema(output)\n",
    "\n"
   ]
  },
  {
   "cell_type": "markdown",
   "metadata": {},
   "source": [
    "### Estimation of the bias"
   ]
  },
  {
   "cell_type": "code",
   "execution_count": 7,
   "metadata": {
    "collapsed": false
   },
   "outputs": [
    {
     "name": "stdout",
     "output_type": "stream",
     "text": [
      "Total number of nonzero elements in origial data:1176952\n",
      "Total number of nonzero elements in train data:1176952\n",
      "Total number of nonzero elements in test data:0\n"
     ]
    }
   ],
   "source": [
    "# then select the items and users for which there are enough data\n",
    "# and split the datan into a training set and a test set\n",
    "\n",
    "# minimal number of data per user and per item\n",
    "min_num_ratings = 1\n",
    "\n",
    "# fraction of the data set that will be the test set \n",
    "p_test = 0\n",
    "\n",
    "valid_ratings, train, test = split_data(ratings, num_items_per_user, num_users_per_item, min_num_ratings, p_test)\n",
    "train = np.asarray(train.todense())\n",
    "test = np.asarray(test.todense())"
   ]
  },
  {
   "cell_type": "code",
   "execution_count": 8,
   "metadata": {
    "collapsed": false
   },
   "outputs": [
    {
     "name": "stdout",
     "output_type": "stream",
     "text": [
      "(10000, 1000)\n",
      "(10000, 1000)\n",
      "0.0\n"
     ]
    }
   ],
   "source": [
    "# stop criterion\n",
    "stop_criterion = 1e-8\n",
    "\n",
    "# number of iterations of the alternative least squares method \n",
    "it_max = 100\n",
    "print(train.shape)\n",
    "print(test.shape)\n",
    "user_features, item_features, rmse_test = ALS(train, test, best_k_als, best_reg_user, best_reg_item, stop_criterion, it_max)\n",
    "print(rmse_test)"
   ]
  },
  {
   "cell_type": "code",
   "execution_count": 9,
   "metadata": {
    "collapsed": false
   },
   "outputs": [
    {
     "name": "stdout",
     "output_type": "stream",
     "text": [
      "1176952\n",
      "0\n",
      "0.0\n"
     ]
    }
   ],
   "source": [
    "print(len(np.nonzero(train)[0]))\n",
    "print(len(np.nonzero(test)[0]))\n",
    "print(rmse_test)"
   ]
  },
  {
   "cell_type": "code",
   "execution_count": 12,
   "metadata": {
    "collapsed": false
   },
   "outputs": [
    {
     "name": "stdout",
     "output_type": "stream",
     "text": [
      "0\n",
      "0 rows successfully written (KbxijdDRBu)\n"
     ]
    }
   ],
   "source": [
    "# compute the csv file to store the results\n",
    "#ce qui compte c'est dans le train set !!!\n",
    "\n",
    "prediction = np.dot(np.transpose(item_features),user_features)\n",
    "#print(prediction)\n",
    "#print(test)\n",
    "ind = np.nonzero(test)\n",
    "#print(ind)\n",
    "prediction = list(prediction[ind])\n",
    "L = list(test[ind])\n",
    "\n",
    "row_list_2 = []\n",
    "mse = 0\n",
    "for i in range(len(L)):\n",
    "    row = {}\n",
    "    row[\"user\"] = ind[0][i]+1\n",
    "    row[\"movie\"] = ind[1][i]+1\n",
    "    row[\"test\"] = L[i]\n",
    "    row[\"guess\"] = prediction[i]\n",
    "    mse = mse + (L[i]-prediction[i])**2\n",
    "    row_list_2.append(row)\n",
    "    \n",
    "print(mse/max(len(L),1))\n",
    "output_res = pd.DataFrame(row_list_2)\n",
    "#print(output_res)\n",
    "output_df_res = dataiku.Dataset(\"res_test_set\")\n",
    "output_df_res.write_with_schema(output_res)\n",
    "\n"
   ]
  },
  {
   "cell_type": "code",
   "execution_count": 13,
   "metadata": {
    "collapsed": false
   },
   "outputs": [
    {
     "name": "stdout",
     "output_type": "stream",
     "text": [
      "1176952 rows successfully written (KdUdFR1qU3)\n"
     ]
    }
   ],
   "source": [
    "##Enregistrement du train set\n",
    "ind_t = np.nonzero(train)\n",
    "T = list(train[ind_t])\n",
    "row_list_train = []\n",
    "for i in range(len(T)):\n",
    "    row = {}\n",
    "    row[\"user\"] = ind_t[0][i]+1\n",
    "    row[\"movie\"] = ind_t[1][i]+1\n",
    "    row[\"train_rating\"] = T[i]\n",
    "    row_list_train.append(row)\n",
    "    \n",
    "output_res = pd.DataFrame(row_list_train)\n",
    "output_df_res = dataiku.Dataset(\"train_set\")\n",
    "output_df_res.write_with_schema(output_res)\n"
   ]
  },
  {
   "cell_type": "code",
   "execution_count": null,
   "metadata": {
    "collapsed": false
   },
   "outputs": [],
   "source": []
  },
  {
   "cell_type": "code",
   "execution_count": 16,
   "metadata": {
    "collapsed": false
   },
   "outputs": [
    {
     "name": "stdout",
     "output_type": "stream",
     "text": [
      "Creating data frame\n",
      "1176952 rows successfully written (Y3qcJOZ4PW)\n"
     ]
    }
   ],
   "source": [
    "prediction = np.dot(np.transpose(item_features),user_features)\n",
    "\n",
    "output_eval = matrix2DataFrame(prediction, evaluated_on)\n",
    "#print(output_res)\n",
    "output_df_eval = dataiku.Dataset(\"res_eval\")\n",
    "output_df_eval.write_with_schema(output_eval)"
   ]
  },
  {
   "cell_type": "markdown",
   "metadata": {},
   "source": [
    "# Post Learning on the features"
   ]
  },
  {
   "cell_type": "code",
   "execution_count": 111,
   "metadata": {
    "collapsed": false
   },
   "outputs": [
    {
     "name": "stdout",
     "output_type": "stream",
     "text": [
      "5\n",
      "Total number of nonzero elements in origial data:1176952\n",
      "Total number of nonzero elements in train data:1176952\n",
      "Total number of nonzero elements in test data:0\n",
      "(10000, 1000)\n",
      "(10000, 1000)\n",
      "0.0\n"
     ]
    }
   ],
   "source": [
    "# then select the items and users for which there are enough data\n",
    "# and split the datan into a training set and a test set\n",
    "\n",
    "# minimal number of data per user and per item\n",
    "print(best_k_als)\n",
    "min_num_ratings = 1\n",
    "\n",
    "# fraction of the data set that will be the test set \n",
    "p_test = 0\n",
    "\n",
    "valid_ratings, train, test = split_data(ratings, num_items_per_user, num_users_per_item, min_num_ratings, p_test)\n",
    "train = np.asarray(train.todense())\n",
    "test = np.asarray(test.todense())\n",
    "# stop criterion\n",
    "stop_criterion = 1e-1\n",
    "\n",
    "# number of iterations of the alternative least squares method \n",
    "it_max = 100\n",
    "print(train.shape)\n",
    "print(test.shape)\n",
    "user_features, item_features, rmse_test = ALS(train, test, best_k_als, best_reg_user, best_reg_item, stop_criterion, it_max)\n",
    "print(rmse_test)"
   ]
  },
  {
   "cell_type": "code",
   "execution_count": 17,
   "metadata": {
    "collapsed": false
   },
   "outputs": [
    {
     "name": "stdout",
     "output_type": "stream",
     "text": [
      "(5, 1000)\n",
      "(5, 10000)\n",
      "9999\n",
      "999\n",
      "1e-08\n"
     ]
    }
   ],
   "source": [
    "print(user_features.shape)\n",
    "print(item_features.shape)\n",
    "print(np.max(ind_t[0]))\n",
    "print(np.max(ind_t[1]))\n",
    "print(stop_criterion)"
   ]
  },
  {
   "cell_type": "code",
   "execution_count": 18,
   "metadata": {
    "collapsed": false
   },
   "outputs": [
    {
     "name": "stdout",
     "output_type": "stream",
     "text": [
      "1176952 rows successfully written (mrc6e1C1Z4)\n"
     ]
    }
   ],
   "source": [
    "##Enregistrement du train set\n",
    "ind_t = np.nonzero(train)\n",
    "T = list(train[ind_t])\n",
    "row_list_features = []\n",
    "for i in range(len(T)):\n",
    "    row = {}\n",
    "    row[\"user\"] = ind_t[0][i]+1\n",
    "    row[\"movie\"] = ind_t[1][i]+1\n",
    "    row[\"train_rating\"] = T[i]\n",
    "\n",
    "    row_list_features.append(row)\n",
    "\n",
    "    for l in range(best_k_als):\n",
    "        row[\"u\"+str(l)] = item_features[l,ind_t[0][i]]\n",
    "        row[\"m\"+str(l)] = user_features[l,ind_t[1][i]]\n",
    "        row[\"mu\"+str(l)] = item_features[l,ind_t[0][i]]*user_features[l,ind_t[1][i]]\n",
    "output_res = pd.DataFrame(row_list_features)\n",
    "output_df_res = dataiku.Dataset(\"feature_dataset\")\n",
    "output_df_res.write_with_schema(output_res)"
   ]
  },
  {
   "cell_type": "code",
   "execution_count": null,
   "metadata": {
    "collapsed": false
   },
   "outputs": [
    {
     "name": "stdout",
     "output_type": "stream",
     "text": [
      "Creating data frame\n"
     ]
    }
   ],
   "source": [
    "## creation of the eval dataset\n",
    "\n",
    "row_list_test = []\n",
    "output_df_res = dataiku.Dataset(\"feature_dataset_test\")\n",
    "\n",
    "print(\"Creating data frame\")\n",
    "for movie in range(prediction.shape[1]):\n",
    "    required_rates = np.where(evaluated_on[:, movie]>0)[0]\n",
    "    for i in range(required_rates.shape[0]): \n",
    "        row = {}\n",
    "        row[\"user\"] = required_rates[i]+1\n",
    "        row[\"movie\"] = movie+1 \n",
    "        row[\"guess\"] = prediction[required_rates[i], movie]\n",
    "        for l in range(best_k_als):\n",
    "            row[\"m\"+str(l)] = item_features[l,required_rates[i]]\n",
    "            row[\"u\"+str(l)] = user_features[l,movie]\n",
    "            row[\"mu\"+str(l)] = item_features[l,required_rates[i]]*user_features[l,movie]\n",
    "            row_list_test.append(row)\n",
    "\n",
    "output_res = pd.DataFrame(row_list_features)\n",
    "\n",
    "output_df_res.write_with_schema(output_res)"
   ]
  },
  {
   "cell_type": "code",
   "execution_count": null,
   "metadata": {
    "collapsed": false
   },
   "outputs": [],
   "source": [
    "print(prediction.shape[1])"
   ]
  },
  {
   "cell_type": "markdown",
   "metadata": {},
   "source": [
    "# Post Learning on the Matrix Factorization"
   ]
  },
  {
   "cell_type": "code",
   "execution_count": null,
   "metadata": {
    "collapsed": true
   },
   "outputs": [],
   "source": []
  },
  {
   "cell_type": "markdown",
   "metadata": {
    "collapsed": true
   },
   "source": [
    "### Prediction"
   ]
  },
  {
   "cell_type": "code",
   "execution_count": 15,
   "metadata": {
    "collapsed": false
   },
   "outputs": [
    {
     "name": "stdout",
     "output_type": "stream",
     "text": [
      "number of items: 10000, number of users: 1000\n"
     ]
    }
   ],
   "source": [
    "path_evaluation = \"datasets/sampleSubmission.csv\"\n",
    "ratings_submit = load_data(path_evaluation)\n",
    "evaluated_on = ratings_submit.toarray()\n",
    "evaluated_on = evaluated_on.astype(np.float)"
   ]
  },
  {
   "cell_type": "code",
   "execution_count": 96,
   "metadata": {
    "collapsed": false
   },
   "outputs": [
    {
     "name": "stdout",
     "output_type": "stream",
     "text": [
      "('best number of features found : ', 5)\n",
      "('rmse on the test set for this number of features : ', 0.9912313860953628)\n",
      "('best lambda user : ', 1e-08)\n",
      "('best lambda item : ', 0.01)\n"
     ]
    }
   ],
   "source": [
    "print(\"best number of features found : \", best_k_als)\n",
    "print(\"rmse on the test set for this number of features : \", best_rmse_test_als)\n",
    "print(\"best lambda user : \", best_reg_user)\n",
    "print(\"best lambda item : \", best_reg_item)"
   ]
  },
  {
   "cell_type": "code",
   "execution_count": null,
   "metadata": {
    "collapsed": true
   },
   "outputs": [],
   "source": []
  },
  {
   "cell_type": "code",
   "execution_count": 97,
   "metadata": {
    "collapsed": false
   },
   "outputs": [
    {
     "name": "stdout",
     "output_type": "stream",
     "text": [
      "Total number of nonzero elements in origial data:1176952\n",
      "Total number of nonzero elements in train data:1176952\n",
      "Total number of nonzero elements in test data:0\n"
     ]
    }
   ],
   "source": [
    "# then select the items and users for which there are enough data\n",
    "# and split the datan into a training set and a test set\n",
    "\n",
    "# minimal number of data per user and per item\n",
    "min_num_ratings = 1\n",
    "\n",
    "# fraction of the data set that will be the test set \n",
    "p_test = 0\n",
    "\n",
    "valid_ratings, train, test = split_data(ratings, num_items_per_user, num_users_per_item, min_num_ratings, p_test)\n",
    "train = np.asarray(train.todense())\n",
    "test = np.asarray(test.todense())\n",
    "# plot the resulting training and test set \n",
    "#plot_train_test_data(train, test)"
   ]
  },
  {
   "cell_type": "code",
   "execution_count": 98,
   "metadata": {
    "collapsed": false
   },
   "outputs": [
    {
     "name": "stdout",
     "output_type": "stream",
     "text": [
      "(10000, 1000)\n",
      "(10000, 1000)\n",
      "0.0\n"
     ]
    }
   ],
   "source": [
    "# stop criterion\n",
    "stop_criterion = 1e-8\n",
    "\n",
    "# number of iterations of the alternative least squares method \n",
    "it_max = 1000\n",
    "user_features, item_features, rmse_test = ALS(train, test, best_k_als, best_reg_user, best_reg_item, stop_criterion, it_max)\n",
    "print(rmse_test)"
   ]
  },
  {
   "cell_type": "code",
   "execution_count": 99,
   "metadata": {
    "collapsed": false
   },
   "outputs": [
    {
     "name": "stdout",
     "output_type": "stream",
     "text": [
      "Creating csv result file\n"
     ]
    }
   ],
   "source": [
    "# compute the csv file to store the results\n",
    "\n",
    "prediction = np.dot(np.transpose(item_features),user_features)\n",
    "prediction = np.minimum(prediction,5)\n",
    "prediction = np.maximum(prediction, 1)\n",
    "filename = \"datasets/result_submission_als.csv\"\n",
    "\n",
    "matrix2file(filename, prediction, evaluated_on)\n"
   ]
  },
  {
   "cell_type": "code",
   "execution_count": null,
   "metadata": {
    "collapsed": false
   },
   "outputs": [],
   "source": []
  },
  {
   "cell_type": "code",
   "execution_count": null,
   "metadata": {
    "collapsed": true
   },
   "outputs": [],
   "source": []
  }
 ],
 "metadata": {
  "anaconda-cloud": {},
  "kernelspec": {
   "display_name": "Python 2",
   "language": "python",
   "name": "python2"
  },
  "language_info": {
   "codemirror_mode": {
    "name": "ipython",
    "version": 2
   },
   "file_extension": ".py",
   "mimetype": "text/x-python",
   "name": "python",
   "nbconvert_exporter": "python",
   "pygments_lexer": "ipython2",
   "version": "2.7.9"
  }
 },
 "nbformat": 4,
 "nbformat_minor": 0
}
