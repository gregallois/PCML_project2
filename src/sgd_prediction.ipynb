{
 "cells": [
  {
   "cell_type": "markdown",
   "metadata": {},
   "source": [
    "## 1) Usefuls Modules"
   ]
  },
  {
   "cell_type": "code",
   "execution_count": 28,
   "metadata": {
    "collapsed": false
   },
   "outputs": [
    {
     "name": "stdout",
     "output_type": "stream",
     "text": [
      "The autoreload extension is already loaded. To reload it, use:\n",
      "  %reload_ext autoreload\n",
      "done\n"
     ]
    }
   ],
   "source": [
    "%matplotlib inline\n",
    "import numpy as np\n",
    "import matplotlib.pyplot as plt\n",
    "import math \n",
    "\n",
    "from itertools import groupby\n",
    "from helpers import *\n",
    "from helpers_marc import *\n",
    "from plots import *\n",
    "import scipy\n",
    "import scipy.io\n",
    "import numpy as np\n",
    "import scipy.sparse as sp\n",
    "import csv\n",
    "\n",
    "%load_ext autoreload\n",
    "%autoreload 2\n",
    "print(\"done\")"
   ]
  },
  {
   "cell_type": "markdown",
   "metadata": {},
   "source": [
    "## 2) Training of the SGD matrix factorization"
   ]
  },
  {
   "cell_type": "code",
   "execution_count": 2,
   "metadata": {
    "collapsed": false
   },
   "outputs": [
    {
     "name": "stdout",
     "output_type": "stream",
     "text": [
      "number of items: 10000, number of users: 1000\n",
      "data loaded\n"
     ]
    }
   ],
   "source": [
    "### A) Load the data\n",
    "\n",
    "# write here the path to the dataset\n",
    "path_dataset = \"../datasets/data_train.csv\"\n",
    "\n",
    "# load the data \n",
    "ratings = load_data(path_dataset)\n",
    "print(\"data loaded\")"
   ]
  },
  {
   "cell_type": "code",
   "execution_count": 3,
   "metadata": {
    "collapsed": false
   },
   "outputs": [
    {
     "data": {
      "image/png": "[encoded data removed]",
      "text/plain": [
       "<matplotlib.figure.Figure at 0x1040a58d0>"
      ]
     },
     "metadata": {},
     "output_type": "display_data"
    }
   ],
   "source": [
    "### B) Split the data\n",
    "\n",
    "# First get the numbers of ratings per user and ratings per film \n",
    "# And plot these values\n",
    "\n",
    "num_items_per_user, num_users_per_item = plot_raw_data(ratings)"
   ]
  },
  {
   "cell_type": "code",
   "execution_count": 4,
   "metadata": {
    "collapsed": false
   },
   "outputs": [
    {
     "name": "stdout",
     "output_type": "stream",
     "text": [
      "Total number of nonzero elements in origial data:1176952\n",
      "Total number of nonzero elements in train data:1059171\n",
      "Total number of nonzero elements in test data:117702\n",
      "data split : done\n"
     ]
    }
   ],
   "source": [
    "# then select the items and users for which there are enough data\n",
    "# and split the datan into a training set and a test set\n",
    "\n",
    "# minimal number of data per user and per item\n",
    "min_num_ratings = 10 \n",
    "\n",
    "# fraction of the data set that will be the test set \n",
    "p_test = 0.1\n",
    "\n",
    "valid_ratings, train, test = split_data(ratings, num_items_per_user, num_users_per_item, min_num_ratings, p_test)\n",
    "# plot the resulting training and test set \n",
    "#plot_train_test_data(train, test)\n",
    "print(\"data split : done\")"
   ]
  },
  {
   "cell_type": "code",
   "execution_count": 7,
   "metadata": {
    "collapsed": false
   },
   "outputs": [
    {
     "name": "stdout",
     "output_type": "stream",
     "text": [
      "matrix factorization for the number of features :  5\n",
      "learn the matrix factorization using SGD...\n",
      "iter: 0, RMSE on training set: 1.5320247946734242.\n",
      "iter: 1, RMSE on training set: 1.5164568938600178.\n",
      "iter: 2, RMSE on training set: 1.5033419674315807.\n",
      "iter: 3, RMSE on training set: 1.5072582606572795.\n",
      "iter: 4, RMSE on training set: 1.4715464476841937.\n",
      "iter: 5, RMSE on training set: 1.4429533148950113.\n",
      "iter: 6, RMSE on training set: 1.4183105154461082.\n",
      "iter: 7, RMSE on training set: 1.4213818085494032.\n",
      "iter: 8, RMSE on training set: 1.3996201860823965.\n",
      "iter: 9, RMSE on training set: 1.3666202450248082.\n",
      "iter: 10, RMSE on training set: 1.366397923026868.\n",
      "iter: 11, RMSE on training set: 1.333825961695989.\n",
      "iter: 12, RMSE on training set: 1.3078139901549697.\n",
      "iter: 13, RMSE on training set: 1.285598714269412.\n",
      "iter: 14, RMSE on training set: 1.2407001561319757.\n",
      "RMSE on test data: 1.2599428326165418.\n",
      "best number of features found :  5\n",
      "rmse on the test set for this number of features :  1.2599428326165418\n"
     ]
    }
   ],
   "source": [
    "### C) Training : Find the best parameters for the sgd matrix factorization \n",
    "# (first : only best number of feature)\n",
    "\n",
    "## Parameters for the matrix factorization\n",
    "# maximum number of features fixed\n",
    "max_K = 10\n",
    "min_K= 2\n",
    "# incrementation step for K\n",
    "step_K = 2\n",
    "\n",
    "# number of full iterations of the stochastic gradient descent\n",
    "max_epochs = 20\n",
    "\n",
    "# regularization parameters (regularization of the loss function in Gradient Descent)\n",
    "#range_lambda_user = np.logspace(-3, 3, 7) \n",
    "#range_lambda_item = np.logspace(-3, 3, 7)\n",
    "lambda_user = 1e-4\n",
    "lambda_item = 1e-4 \n",
    "\n",
    "# descent step size\n",
    "gamma = 0.1\n",
    "\n",
    "# initialization of variables refering to the matrix factorization for the best number\n",
    "best_rmse_test_sgd = float('Inf')\n",
    "best_k_sgd = 0\n",
    "best_user_feat_sgd = np.zeros(1)\n",
    "best_item_feat_sgd = np.zeros(1)\n",
    "\n",
    "# for each K of the grid, compute the matrix factorization (training set) and the rmse (test set), \n",
    "# If it improves the results, update the rmse\n",
    "\n",
    "for K in range(min_K,max_K,step_K):\n",
    "    \n",
    "    print(\"matrix factorization for the number of features : \", K)\n",
    "    \n",
    "    # compute the stochastic gradient descent matrix factorization\n",
    "    user_features, item_features, rmse_test = matrix_factorization_SGD(train, test, K, max_epochs, lambda_user, lambda_item, gamma)\n",
    "    if rmse_test < best_rmse_test_sgd:\n",
    "        # better rmse => update the references\n",
    "        best_rmse_test_sgd = rmse_test\n",
    "        best_k_sgd = K\n",
    "        best_user_feat_sgd = user_features\n",
    "        best_item_feat_sgd = item_features\n",
    "\n",
    "# print the results\n",
    "print(\"best number of features found : \", best_k_sgd)\n",
    "print(\"rmse on the test set for this number of features : \", best_rmse_test_sgd)"
   ]
  },
  {
   "cell_type": "markdown",
   "metadata": {},
   "source": [
    "## 3) Prediction"
   ]
  },
  {
   "cell_type": "code",
   "execution_count": 8,
   "metadata": {
    "collapsed": true
   },
   "outputs": [],
   "source": [
    "## prediction using same parameters and the best number of features found previously"
   ]
  },
  {
   "cell_type": "code",
   "execution_count": 9,
   "metadata": {
    "collapsed": false
   },
   "outputs": [
    {
     "name": "stdout",
     "output_type": "stream",
     "text": [
      "number of items: 10000, number of users: 1000\n"
     ]
    }
   ],
   "source": [
    "### A) Load the prediction data\n",
    "path_evaluation = \"../datasets/sampleSubmission.csv\"\n",
    "ratings_submit = load_data(path_evaluation)\n",
    "evaluated_on = ratings_submit.toarray()\n",
    "evaluated_on = evaluated_on.astype(np.int8)"
   ]
  },
  {
   "cell_type": "code",
   "execution_count": null,
   "metadata": {
    "collapsed": false
   },
   "outputs": [
    {
     "name": "stdout",
     "output_type": "stream",
     "text": [
      "learn the matrix factorization using SGD...\n"
     ]
    }
   ],
   "source": [
    "# compute the prediction matrix for the best k and all the ratings\n",
    "# not only those for sufficient amount of data\n",
    "#max_epochs = 15\n",
    "data_sub = ratings\n",
    "user_feat_sub, item_feat_sub, rmse_test = matrix_factorization_SGD(data_sub, data_sub, best_k_sgd, max_epochs, lambda_user, lambda_item, gamma)\n",
    "\n",
    "prediction = np.dot(np.transpose(item_feat_sub), user_feat_sub)\n",
    "print(\"prediction matrix computed\")"
   ]
  },
  {
   "cell_type": "code",
   "execution_count": 38,
   "metadata": {
    "collapsed": false
   },
   "outputs": [
    {
     "name": "stdout",
     "output_type": "stream",
     "text": [
      "Creating csv result file\n"
     ]
    }
   ],
   "source": [
    "# compute the csv file to store the results\n",
    "\n",
    "filename = \"../results/submission_sgd.csv\"\n",
    "\n",
    "matrix2file(filename, prediction, evaluated_on)\n"
   ]
  },
  {
   "cell_type": "code",
   "execution_count": null,
   "metadata": {
    "collapsed": true
   },
   "outputs": [],
   "source": []
  }
 ],
 "metadata": {
  "kernelspec": {
   "display_name": "Python [Root]",
   "language": "python",
   "name": "Python [Root]"
  },
  "language_info": {
   "codemirror_mode": {
    "name": "ipython",
    "version": 3
   },
   "file_extension": ".py",
   "mimetype": "text/x-python",
   "name": "python",
   "nbconvert_exporter": "python",
   "pygments_lexer": "ipython3",
   "version": "3.5.2"
  }
 },
 "nbformat": 4,
 "nbformat_minor": 0
}
