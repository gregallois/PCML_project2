{
 "cells": [
  {
   "cell_type": "markdown",
   "metadata": {
    "collapsed": true
   },
   "source": [
    "## Marc Notebook"
   ]
  },
  {
   "cell_type": "markdown",
   "metadata": {},
   "source": [
    "## 1) import usefuls module"
   ]
  },
  {
   "cell_type": "code",
   "execution_count": 1,
   "metadata": {
    "collapsed": false
   },
   "outputs": [],
   "source": [
    "%matplotlib inline\n",
    "import numpy as np\n",
    "import matplotlib.pyplot as plt\n",
    "import math \n",
    "\n",
    "from itertools import groupby\n",
    "from helpers import *\n",
    "from helpers_marc import *\n",
    "from plots import *\n",
    "import scipy\n",
    "import scipy.io\n",
    "import numpy as np\n",
    "import scipy.sparse as sp\n",
    "\n",
    "%load_ext autoreload\n",
    "%autoreload 2"
   ]
  },
  {
   "cell_type": "markdown",
   "metadata": {},
   "source": [
    "## 2) Load the data"
   ]
  },
  {
   "cell_type": "code",
   "execution_count": 2,
   "metadata": {
    "collapsed": false
   },
   "outputs": [
    {
     "name": "stdout",
     "output_type": "stream",
     "text": [
      "number of items: 10000, number of users: 1000\n"
     ]
    }
   ],
   "source": [
    "# write here the path to the dataset\n",
    "path_dataset = \"../datasets/data_train.csv\"\n",
    "\n",
    "# load the data \n",
    "ratings = load_data(path_dataset)"
   ]
  },
  {
   "cell_type": "markdown",
   "metadata": {},
   "source": [
    "## 3) Split the data "
   ]
  },
  {
   "cell_type": "code",
   "execution_count": 3,
   "metadata": {
    "collapsed": false
   },
   "outputs": [
    {
     "data": {
      "image/png": "[encoded data removed]",
      "text/plain": [
       "<matplotlib.figure.Figure at 0x104205940>"
      ]
     },
     "metadata": {},
     "output_type": "display_data"
    }
   ],
   "source": [
    "# First get the numbers of ratings per user and ratings per film \n",
    "# And plot these values\n",
    "\n",
    "num_items_per_user, num_users_per_item = plot_raw_data(ratings)\n"
   ]
  },
  {
   "cell_type": "code",
   "execution_count": 4,
   "metadata": {
    "collapsed": false
   },
   "outputs": [
    {
     "name": "stdout",
     "output_type": "stream",
     "text": [
      "Total number of nonzero elements in origial data:1176952\n",
      "Total number of nonzero elements in train data:589452\n",
      "Total number of nonzero elements in test data:587421\n"
     ]
    }
   ],
   "source": [
    "# then select the items and users for which there are enough data\n",
    "# and split the datan into a training set and a test set\n",
    "\n",
    "# minimal number of data per user and per item\n",
    "min_num_ratings = 10 \n",
    "\n",
    "# fraction of the data set that will be the test set \n",
    "p_test = 0.5\n",
    "\n",
    "valid_ratings, train, test = split_data(ratings, num_items_per_user, num_users_per_item, min_num_ratings, p_test)\n",
    "# plot the resulting training and test set \n",
    "#valid_ratings = valid_ratings[:100,:100]\n"
   ]
  },
  {
   "cell_type": "code",
   "execution_count": 5,
   "metadata": {
    "collapsed": false
   },
   "outputs": [
    {
     "data": {
      "image/png": "[encoded data removed]",
      "text/plain": [
       "<matplotlib.figure.Figure at 0x10d270c88>"
      ]
     },
     "metadata": {},
     "output_type": "display_data"
    }
   ],
   "source": [
    "# new test cell\n",
    "#train = train[:100,:100]\n",
    "#test = test[:100,:100]\n",
    "#print(\"ok\")\n",
    "plot_train_test_data(train, test)"
   ]
  },
  {
   "cell_type": "markdown",
   "metadata": {},
   "source": [
    "## 4) Matrix Factorization through Stochastic Gradient Descent "
   ]
  },
  {
   "cell_type": "code",
   "execution_count": 15,
   "metadata": {
    "collapsed": false,
    "scrolled": true
   },
   "outputs": [
    {
     "name": "stdout",
     "output_type": "stream",
     "text": [
      "matrix factorization for the number of features :  2\n",
      "0.00025025025025\n",
      "learn the matrix factorization using SGD...\n",
      "iter: 0, RMSE on training set: 1.5223792661766111.\n",
      "RMSE on test data: 1.5343891428465641.\n",
      "best number of features found :  2\n",
      "rmse on the test set for this number of features :  1.5343891428465641\n"
     ]
    }
   ],
   "source": [
    "## Perform matrix factorization through stochastic gradient descent, for different numbers of features\n",
    "# (grid search on the number of feature)\n",
    "# keep the best number of feature, and the associated factorization\n",
    "\n",
    "## Parameters for the matrix factorization\n",
    "# maximum number of features fixed\n",
    "max_K = 3\n",
    "\n",
    "# incrementation step for K\n",
    "step_K = 2\n",
    "\n",
    "# number of full iterations of the stochastic gradient descent\n",
    "max_epochs = 1\n",
    "\n",
    "# regularization parameters (regularization of the loss function in Gradient Descent)\n",
    "lambda_user = 1e-4\n",
    "lambda_item = 1e-4\n",
    "\n",
    "# descent step size\n",
    "gamma = 0.1\n",
    "\n",
    "# initialization of variables refering to the matrix factorization for the best number\n",
    "best_rmse_test_sgd = float('Inf')\n",
    "best_k_sgd = 0\n",
    "best_user_feat_sgd = np.zeros(1)\n",
    "best_item_feat_sgd = np.zeros(1)\n",
    "\n",
    "# for each K of the grid, compute the matrix factorization (training set) and the rmse (test set), \n",
    "# If it improves the results, update the rmse\n",
    "\n",
    "for K in range(2,max_K,step_K):\n",
    "    \n",
    "    print(\"matrix factorization for the number of features : \", K)\n",
    "    \n",
    "    # compute the stochastic gradient descent matrix factorization\n",
    "    user_features, item_features, rmse_test = matrix_factorization_SGD(train, test, K, max_epochs, lambda_user, lambda_item, gamma)\n",
    "    if rmse_test < best_rmse_test_sgd:\n",
    "        # better rmse => update the references\n",
    "        best_rmse_test_sgd = rmse_test\n",
    "        best_k_sgd = K\n",
    "        best_user_feat_sgd = user_features\n",
    "        best_item_feat_sgd = item_features\n",
    "\n",
    "# print the results\n",
    "print(\"best number of features found : \", best_k_sgd)\n",
    "print(\"rmse on the test set for this number of features : \", best_rmse_test_sgd)"
   ]
  },
  {
   "cell_type": "code",
   "execution_count": 17,
   "metadata": {
    "collapsed": false
   },
   "outputs": [
    {
     "name": "stdout",
     "output_type": "stream",
     "text": [
      "prediction matrix [[ 3.94668896  3.99877292  2.93442447  2.95974889  1.97894177  4.47962859\n",
      "   3.94782554  3.97598334  2.83815264  2.79078221]\n",
      " [ 3.99983284  4.07341087  2.98389335  2.99959159  2.01191343  4.61382112\n",
      "   4.00197101  4.0288096   3.21693447  2.85966532]\n",
      " [ 3.99979547  4.03150033  2.96381688  2.99958695  1.99915864  4.46501351\n",
      "   3.99994743  4.03020596  2.53107347  2.79659845]\n",
      " [ 4.00025042  4.18063763  3.03534155  2.99984508  2.04460837  4.99374712\n",
      "   4.00745484  4.02557257  4.96657647  3.02075642]\n",
      " [ 3.99962516  4.0308356   2.9634546   2.99945951  1.99892354  4.46307162\n",
      "   3.99975373  4.03005125  2.5228897   2.79573705]\n",
      " [ 4.00045826  4.18249796  3.03628598  3.00000002  2.04521438  4.99984425\n",
      "   4.00774099  4.02572545  4.99374727  3.02338713]\n",
      " [ 3.99925881  4.12844171  3.01009385  2.99913004  2.02854077  4.81074943\n",
      "   4.00403474  4.02632675  4.12740013  2.94298545]\n",
      " [ 3.99996204  4.18123877  3.03555486  2.99962831  2.04473549  4.9965936\n",
      "   4.00720875  4.02525145  4.98100091  3.02189743]\n",
      " [ 3.90362754  3.9130962   2.88227547  2.92747924  1.94456091  4.28136775\n",
      "   3.90275726  3.93404229  2.11849627  2.69702969]\n",
      " [ 4.00028636  4.14353635  3.0175867   2.99989278  2.03333054  4.86184514\n",
      "   4.0057292   4.02688064  4.35832255  2.96487004]]\n"
     ]
    }
   ],
   "source": [
    "# new test cell\n",
    "predict = np.dot(np.transpose(best_user_feat_sgd),best_item_feat_sgd)\n",
    "print(\"prediction matrix\", predict[:10,:10])"
   ]
  },
  {
   "cell_type": "markdown",
   "metadata": {
    "collapsed": true
   },
   "source": [
    "## 5) Matrix Factorization Using alternative Least Square Method "
   ]
  },
  {
   "cell_type": "code",
   "execution_count": 1,
   "metadata": {
    "collapsed": false
   },
   "outputs": [
    {
     "ename": "NameError",
     "evalue": "name 'np' is not defined",
     "output_type": "error",
     "traceback": [
      "\u001b[0;31m---------------------------------------------------------------------------\u001b[0m",
      "\u001b[0;31mNameError\u001b[0m                                 Traceback (most recent call last)",
      "\u001b[0;32m<ipython-input-1-4065f93d19cf>\u001b[0m in \u001b[0;36m<module>\u001b[0;34m()\u001b[0m\n\u001b[1;32m     23\u001b[0m \u001b[0mbest_rmse_test_als\u001b[0m \u001b[0;34m=\u001b[0m \u001b[0mfloat\u001b[0m\u001b[0;34m(\u001b[0m\u001b[0;34m'Inf'\u001b[0m\u001b[0;34m)\u001b[0m\u001b[0;34m\u001b[0m\u001b[0m\n\u001b[1;32m     24\u001b[0m \u001b[0mbest_k_als\u001b[0m \u001b[0;34m=\u001b[0m \u001b[0;36m0\u001b[0m\u001b[0;34m\u001b[0m\u001b[0m\n\u001b[0;32m---> 25\u001b[0;31m \u001b[0mbest_user_feat_als\u001b[0m \u001b[0;34m=\u001b[0m \u001b[0mnp\u001b[0m\u001b[0;34m.\u001b[0m\u001b[0mzeros\u001b[0m\u001b[0;34m(\u001b[0m\u001b[0;36m1\u001b[0m\u001b[0;34m)\u001b[0m\u001b[0;34m\u001b[0m\u001b[0m\n\u001b[0m\u001b[1;32m     26\u001b[0m \u001b[0mbest_item_feat_als\u001b[0m \u001b[0;34m=\u001b[0m \u001b[0mnp\u001b[0m\u001b[0;34m.\u001b[0m\u001b[0mzeros\u001b[0m\u001b[0;34m(\u001b[0m\u001b[0;36m1\u001b[0m\u001b[0;34m)\u001b[0m\u001b[0;34m\u001b[0m\u001b[0m\n\u001b[1;32m     27\u001b[0m \u001b[0;34m\u001b[0m\u001b[0m\n",
      "\u001b[0;31mNameError\u001b[0m: name 'np' is not defined"
     ]
    }
   ],
   "source": [
    "## Perform matrix factorization through stochastic gradient descent, for different numbers of features\n",
    "# (grid search on the number of feature)\n",
    "# keep the best number of feature, and the associated factorization\n",
    "\n",
    "## Parameters for the matrix factorization\n",
    "# maximum number of features fixed\n",
    "max_K = 6\n",
    "\n",
    "# incrementation step for K\n",
    "step_K = 1\n",
    "\n",
    "# regularization parameters for the loss function \n",
    "lambda_user = 1e-8\n",
    "lambda_item = 1e-8\n",
    "\n",
    "# stop criterion\n",
    "stop_criterion = 1e-3\n",
    "\n",
    "# number of iterations of the alternative least squares method \n",
    "it_max = 10\n",
    "\n",
    "# initialization of variables refering to the matrix factorization for the best number\n",
    "best_rmse_test_als = float('Inf')\n",
    "best_k_als = 0\n",
    "best_user_feat_als = np.zeros(1)\n",
    "best_item_feat_als = np.zeros(1)\n",
    "\n",
    "for K in range(1,max_K,step_K):\n",
    "    \n",
    "    print(\"als matrix factorization for the number of features : \", K)\n",
    "    \n",
    "    # compute the matrix factorization using alternative least squares method\n",
    "    user_features, item_features, rmse_test =ALS(train, test,K, lambda_user, lambda_item, stop_criterion, it_max)\n",
    "    print(\"rmse on test data for \", K, \" features : \", rmse_test)\n",
    "    if rmse_test < best_rmse_test_als:\n",
    "        # better rmse => update the references\n",
    "        best_rmse_test_als = rmse_test\n",
    "        best_k_als = K\n",
    "        best_user_feat_als = user_features\n",
    "        best_item_feat_als = item_features\n",
    "        \n",
    "# print the results\n",
    "print(\"best number of features found : \", best_k_als)\n",
    "print(\"rmse on the test set for this number of features : \", best_rmse_test_als)"
   ]
  },
  {
   "cell_type": "markdown",
   "metadata": {},
   "source": [
    "## 6) Prediction using SGD Matrix Factorization"
   ]
  },
  {
   "cell_type": "code",
   "execution_count": 2,
   "metadata": {
    "collapsed": false
   },
   "outputs": [
    {
     "name": "stdout",
     "output_type": "stream",
     "text": [
      "number of items: 10000, number of users: 1000\n"
     ]
    },
    {
     "data": {
      "image/png": "[encoded data removed]",
      "text/plain": [
       "<matplotlib.figure.Figure at 0x10a50e3c8>"
      ]
     },
     "metadata": {},
     "output_type": "display_data"
    },
    {
     "name": "stdout",
     "output_type": "stream",
     "text": [
      "ok\n"
     ]
    }
   ],
   "source": [
    "### Prediction using the SGD Matrix Factorization best parameters found previously \n",
    "\n",
    "# load the submission data set \n",
    "# write here the path to the dataset\n",
    "path_dataset_submit = \"../datasets/sampleSubmission.csv\"\n",
    "\n",
    "# load the data \n",
    "ratings_submit = load_data(path_dataset_submit)\n",
    "num_items_per_user, num_users_per_item = plot_raw_data(ratings_submit)\n",
    "\n",
    "#ratings_submit = ratings_submit[:30,:50]\n",
    "print(\"ok\")"
   ]
  },
  {
   "cell_type": "code",
   "execution_count": 3,
   "metadata": {
    "collapsed": false
   },
   "outputs": [
    {
     "name": "stdout",
     "output_type": "stream",
     "text": [
      "ok\n"
     ]
    }
   ],
   "source": [
    "# Need to apply the same transformation and keep only in the training set the items,users for which there are at least\n",
    "# a certain amount of information => train_submit : FALSE => UNCOMPATIBLE SHAPE\n",
    "#min_num_ratings = 10\n",
    "#dummy_valid_ratings_submit, train_submit, dummy_test_submit = split_data(ratings_submit, num_items_per_user, num_users_per_item, min_num_ratings, 0)\n",
    "print(\"ok\")"
   ]
  },
  {
   "cell_type": "code",
   "execution_count": 5,
   "metadata": {
    "collapsed": false
   },
   "outputs": [
    {
     "name": "stdout",
     "output_type": "stream",
     "text": [
      "d,n : 10000 1000\n",
      "learn the matrix factorization using SGD...\n",
      "iter: 0, RMSE on training set: 0.04511382239508148.\n"
     ]
    },
    {
     "ename": "KeyboardInterrupt",
     "evalue": "",
     "output_type": "error",
     "traceback": [
      "\u001b[0;31m---------------------------------------------------------------------------\u001b[0m",
      "\u001b[0;31mKeyboardInterrupt\u001b[0m                         Traceback (most recent call last)",
      "\u001b[0;32m<ipython-input-5-745cc5e6fdef>\u001b[0m in \u001b[0;36m<module>\u001b[0;34m()\u001b[0m\n\u001b[1;32m     18\u001b[0m \u001b[0;31m# compute the prediction matrix\u001b[0m\u001b[0;34m\u001b[0m\u001b[0;34m\u001b[0m\u001b[0m\n\u001b[1;32m     19\u001b[0m \u001b[0;31m# => directly use the ratings matrix as rating as training set\u001b[0m\u001b[0;34m\u001b[0m\u001b[0;34m\u001b[0m\u001b[0m\n\u001b[0;32m---> 20\u001b[0;31m \u001b[0muser_features_submit_sgd\u001b[0m\u001b[0;34m,\u001b[0m \u001b[0mitem_features_submit_sgd\u001b[0m\u001b[0;34m,\u001b[0m \u001b[0mrmse_full_ratings\u001b[0m \u001b[0;34m=\u001b[0m \u001b[0mmatrix_factorization_SGD\u001b[0m\u001b[0;34m(\u001b[0m\u001b[0mratings_submit\u001b[0m\u001b[0;34m,\u001b[0m \u001b[0mratings_submit\u001b[0m\u001b[0;34m,\u001b[0m \u001b[0mbest_k_sgd\u001b[0m\u001b[0;34m,\u001b[0m \u001b[0mmax_epochs\u001b[0m\u001b[0;34m,\u001b[0m \u001b[0mlambda_user\u001b[0m\u001b[0;34m,\u001b[0m \u001b[0mlambda_item\u001b[0m\u001b[0;34m,\u001b[0m \u001b[0mgamma\u001b[0m\u001b[0;34m)\u001b[0m\u001b[0;34m\u001b[0m\u001b[0m\n\u001b[0m\u001b[1;32m     21\u001b[0m \u001b[0;34m\u001b[0m\u001b[0m\n\u001b[1;32m     22\u001b[0m \u001b[0;31m# print : rmse of our full prediction :\u001b[0m\u001b[0;34m\u001b[0m\u001b[0;34m\u001b[0m\u001b[0m\n",
      "\u001b[0;32m/Users/Marc/Documents/cours/EPFL/etudes/codes/python_notebooks/CS-433/PCML_project2/src/helpers_marc.py\u001b[0m in \u001b[0;36mmatrix_factorization_SGD\u001b[0;34m(train, test, K, num_epochs, lambda_user, lambda_item, gamma)\u001b[0m\n\u001b[1;32m    186\u001b[0m                 \u001b[0mnew_item_features\u001b[0m\u001b[0;34m[\u001b[0m\u001b[0mk\u001b[0m\u001b[0;34m]\u001b[0m \u001b[0;34m=\u001b[0m \u001b[0mnew_item_features\u001b[0m\u001b[0;34m[\u001b[0m\u001b[0mk\u001b[0m\u001b[0;34m]\u001b[0m \u001b[0;34m-\u001b[0m \u001b[0mgamma\u001b[0m\u001b[0;34m*\u001b[0m\u001b[0mgradi\u001b[0m\u001b[0;34m\u001b[0m\u001b[0m\n\u001b[1;32m    187\u001b[0m                 \u001b[0;31m# updating z[k,n]\u001b[0m\u001b[0;34m\u001b[0m\u001b[0;34m\u001b[0m\u001b[0m\n\u001b[0;32m--> 188\u001b[0;31m                 \u001b[0mgradu\u001b[0m \u001b[0;34m=\u001b[0m \u001b[0;34m-\u001b[0m\u001b[0;36m2\u001b[0m\u001b[0;34m*\u001b[0m\u001b[0mitem_features\u001b[0m\u001b[0;34m[\u001b[0m\u001b[0mk\u001b[0m\u001b[0;34m,\u001b[0m\u001b[0md\u001b[0m\u001b[0;34m]\u001b[0m\u001b[0;34m*\u001b[0m\u001b[0;34m(\u001b[0m\u001b[0mtrain\u001b[0m\u001b[0;34m[\u001b[0m\u001b[0md\u001b[0m\u001b[0;34m,\u001b[0m\u001b[0mn\u001b[0m\u001b[0;34m]\u001b[0m\u001b[0;34m-\u001b[0m\u001b[0mnp\u001b[0m\u001b[0;34m.\u001b[0m\u001b[0mdot\u001b[0m\u001b[0;34m(\u001b[0m\u001b[0mitem_features\u001b[0m\u001b[0;34m[\u001b[0m\u001b[0;34m:\u001b[0m\u001b[0;34m,\u001b[0m\u001b[0md\u001b[0m\u001b[0;34m]\u001b[0m\u001b[0;34m,\u001b[0m\u001b[0mnp\u001b[0m\u001b[0;34m.\u001b[0m\u001b[0mtranspose\u001b[0m\u001b[0;34m(\u001b[0m\u001b[0muser_features\u001b[0m\u001b[0;34m[\u001b[0m\u001b[0;34m:\u001b[0m\u001b[0;34m,\u001b[0m\u001b[0mn\u001b[0m\u001b[0;34m]\u001b[0m\u001b[0;34m)\u001b[0m\u001b[0;34m)\u001b[0m\u001b[0;34m)\u001b[0m\u001b[0;34m+\u001b[0m\u001b[0mlambda_user\u001b[0m\u001b[0;34m*\u001b[0m\u001b[0muser_features\u001b[0m\u001b[0;34m[\u001b[0m\u001b[0mk\u001b[0m\u001b[0;34m,\u001b[0m\u001b[0mn\u001b[0m\u001b[0;34m]\u001b[0m\u001b[0;34m\u001b[0m\u001b[0m\n\u001b[0m\u001b[1;32m    189\u001b[0m                 \u001b[0mnew_user_features\u001b[0m\u001b[0;34m[\u001b[0m\u001b[0mk\u001b[0m\u001b[0;34m]\u001b[0m \u001b[0;34m=\u001b[0m \u001b[0mnew_user_features\u001b[0m\u001b[0;34m[\u001b[0m\u001b[0mk\u001b[0m\u001b[0;34m]\u001b[0m \u001b[0;34m-\u001b[0m \u001b[0mgamma\u001b[0m\u001b[0;34m*\u001b[0m\u001b[0mgradu\u001b[0m\u001b[0;34m\u001b[0m\u001b[0m\n\u001b[1;32m    190\u001b[0m \u001b[0;34m\u001b[0m\u001b[0m\n",
      "\u001b[0;32m/Users/Marc/anaconda/lib/python3.5/site-packages/scipy/sparse/lil.py\u001b[0m in \u001b[0;36m__getitem__\u001b[0;34m(self, index)\u001b[0m\n\u001b[1;32m    239\u001b[0m                 v = _csparsetools.lil_get1(self.shape[0], self.shape[1],\n\u001b[1;32m    240\u001b[0m                                            \u001b[0mself\u001b[0m\u001b[0;34m.\u001b[0m\u001b[0mrows\u001b[0m\u001b[0;34m,\u001b[0m \u001b[0mself\u001b[0m\u001b[0;34m.\u001b[0m\u001b[0mdata\u001b[0m\u001b[0;34m,\u001b[0m\u001b[0;34m\u001b[0m\u001b[0m\n\u001b[0;32m--> 241\u001b[0;31m                                            i, j)\n\u001b[0m\u001b[1;32m    242\u001b[0m                 \u001b[0;32mreturn\u001b[0m \u001b[0mself\u001b[0m\u001b[0;34m.\u001b[0m\u001b[0mdtype\u001b[0m\u001b[0;34m.\u001b[0m\u001b[0mtype\u001b[0m\u001b[0;34m(\u001b[0m\u001b[0mv\u001b[0m\u001b[0;34m)\u001b[0m\u001b[0;34m\u001b[0m\u001b[0m\n\u001b[1;32m    243\u001b[0m \u001b[0;34m\u001b[0m\u001b[0m\n",
      "\u001b[0;31mKeyboardInterrupt\u001b[0m: "
     ]
    }
   ],
   "source": [
    "# SAME PARAMETERS AS DURING THE TRAINING\n",
    "# number of full iterations of the stochastic gradient descent\n",
    "max_epochs =20\n",
    "\n",
    "# regularization parameters (regularization of the loss function in Gradient Descent)\n",
    "lambda_user = 1e-3\n",
    "lambda_item = 1e-7\n",
    "\n",
    "# descent step size\n",
    "gamma = 0.1\n",
    "#ratings_submit = ratings_submit[:1000,:1000]\n",
    "# size of the rating matrix\n",
    "d,n = ratings_submit.shape\n",
    "print(\"d,n :\", d,n)\n",
    "# for test only \n",
    "best_k_sgd = 5\n",
    "\n",
    "# compute the prediction matrix \n",
    "# => directly use the ratings matrix as rating as training set \n",
    "user_features_submit_sgd, item_features_submit_sgd, rmse_full_ratings = matrix_factorization_SGD(ratings_submit, ratings_submit, best_k_sgd, max_epochs, lambda_user, lambda_item, gamma)\n",
    "\n",
    "# print : rmse of our full prediction : \n",
    "print(\"rmse of our prediction : \", rmse_full_ratings)"
   ]
  },
  {
   "cell_type": "code",
   "execution_count": null,
   "metadata": {
    "collapsed": true
   },
   "outputs": [],
   "source": []
  }
 ],
 "metadata": {
  "anaconda-cloud": {},
  "kernelspec": {
   "display_name": "Python [Root]",
   "language": "python",
   "name": "Python [Root]"
  },
  "language_info": {
   "codemirror_mode": {
    "name": "ipython",
    "version": 3
   },
   "file_extension": ".py",
   "mimetype": "text/x-python",
   "name": "python",
   "nbconvert_exporter": "python",
   "pygments_lexer": "ipython3",
   "version": "3.5.2"
  }
 },
 "nbformat": 4,
 "nbformat_minor": 0
}
