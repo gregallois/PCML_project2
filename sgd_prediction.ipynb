{
 "cells": [
  {
   "cell_type": "markdown",
   "metadata": {},
   "source": [
    "## 1) Usefuls Modules"
   ]
  },
  {
   "cell_type": "code",
   "execution_count": 1,
   "metadata": {
    "collapsed": false
   },
   "outputs": [
    {
     "name": "stdout",
     "output_type": "stream",
     "text": [
      "done\n"
     ]
    }
   ],
   "source": [
    "%matplotlib inline\n",
    "import numpy as np\n",
    "import matplotlib.pyplot as plt\n",
    "import math \n",
    "\n",
    "from itertools import groupby\n",
    "from helpers import *\n",
    "from helpers_marc import *\n",
    "from plots import *\n",
    "import scipy\n",
    "import scipy.io\n",
    "import numpy as np\n",
    "import scipy.sparse as sp\n",
    "import csv\n",
    "\n",
    "%load_ext autoreload\n",
    "%autoreload 2\n",
    "print(\"done\")"
   ]
  },
  {
   "cell_type": "markdown",
   "metadata": {},
   "source": [
    "## 2) Training of the SGD matrix factorization"
   ]
  },
  {
   "cell_type": "code",
   "execution_count": 5,
   "metadata": {
    "collapsed": false
   },
   "outputs": [
    {
     "name": "stdout",
     "output_type": "stream",
     "text": [
      "number of items: 10000, number of users: 1000\n",
      "data loaded\n"
     ]
    }
   ],
   "source": [
    "### A) Load the data\n",
    "\n",
    "# write here the path to the dataset\n",
    "path_dataset = \"datasets/data_train.csv\"\n",
    "\n",
    "# load the data \n",
    "ratings = load_data(path_dataset)\n",
    "print(\"data loaded\")"
   ]
  },
  {
   "cell_type": "code",
   "execution_count": 34,
   "metadata": {
    "collapsed": false
   },
   "outputs": [
    {
     "data": {
      "image/png": "[encoded data removed]",
      "text/plain": [
       "<matplotlib.figure.Figure at 0x7f15f1cc1450>"
      ]
     },
     "metadata": {},
     "output_type": "display_data"
    }
   ],
   "source": [
    "### B) Split the data\n",
    "\n",
    "# First get the numbers of ratings per user and ratings per film \n",
    "# And plot these values\n",
    "\n",
    "num_items_per_user, num_users_per_item = plot_raw_data(ratings)"
   ]
  },
  {
   "cell_type": "code",
   "execution_count": 35,
   "metadata": {
    "collapsed": false
   },
   "outputs": [
    {
     "name": "stdout",
     "output_type": "stream",
     "text": [
      "Total number of nonzero elements in origial data:1176952\n",
      "Total number of nonzero elements in train data:1059171\n",
      "Total number of nonzero elements in test data:117702\n",
      "data split : done\n"
     ]
    }
   ],
   "source": [
    "# then select the items and users for which there are enough data\n",
    "# and split the datan into a training set and a test set\n",
    "\n",
    "# minimal number of data per user and per item\n",
    "min_num_ratings = 10 \n",
    "\n",
    "# fraction of the data set that will be the test set \n",
    "p_test = 0.1\n",
    "\n",
    "valid_ratings, train, test = split_data(ratings, num_items_per_user, num_users_per_item, min_num_ratings, p_test)\n",
    "# plot the resulting training and test set \n",
    "#plot_train_test_data(train, test)\n",
    "print(\"data split : done\")"
   ]
  },
  {
   "cell_type": "code",
   "execution_count": null,
   "metadata": {
    "collapsed": false
   },
   "outputs": [
    {
     "name": "stdout",
     "output_type": "stream",
     "text": [
      "('matrix factorization for the number of features : ', 2)\n",
      "learn the matrix factorization using SGD...\n"
     ]
    }
   ],
   "source": [
    "### C) Training : Find the best parameters for the sgd matrix factorization : K (number of features) lambda (regularization parameters)\n",
    "\n",
    "## Parameters for the matrix factorization\n",
    "# maximum number of features fixed\n",
    "max_K = 30\n",
    "min_K= 2\n",
    "# incrementation step for K\n",
    "step_K = 4\n",
    "\n",
    "# number of full iterations of the stochastic gradient descent\n",
    "max_epochs = 30\n",
    "\n",
    "# regularization parameters (regularization of the loss function in Gradient Descent)\n",
    "range_lambda_user = np.logspace(-5, -2, 4) \n",
    "range_lambda_item = np.logspace(-5, -2, 4)\n",
    "#lambda_user = 1e-4\n",
    "#lambda_item = 1e-4 \n",
    "\n",
    "# descent step size\n",
    "gamma = 0.1\n",
    "\n",
    "# initialization of variables refering to the matrix factorization for the best number\n",
    "best_rmse_test_sgd = float('Inf')\n",
    "best_k_sgd = 0\n",
    "best_user_feat_sgd = np.zeros(1)\n",
    "best_item_feat_sgd = np.zeros(1)\n",
    "best_lambda_user = 0\n",
    "best_lambda_item =0\n",
    "\n",
    "lambdas_rmse = []\n",
    "\n",
    "# for each lambdas of the grid \n",
    "# for each K of the grid, compute the matrix factorization (training set) and the rmse (test set), \n",
    "# If it improves the results, update the rmse\n",
    "\n",
    "for lambda_user in range_lambda_user:\n",
    "    \n",
    "    for lambda_item in range_lambda_item: \n",
    "        \n",
    "        for K in range(min_K,max_K,step_K):\n",
    "    \n",
    "            print(\"matrix factorization for the number of features : \", K)\n",
    "\n",
    "            # compute the stochastic gradient descent matrix factorization\n",
    "            user_features, item_features, rmse_test = matrix_factorization_SGD(train, test, \n",
    "                                                                               K, max_epochs, lambda_user, lambda_item, gamma)\n",
    "            if rmse_test < best_rmse_test_sgd:\n",
    "                # better rmse => update the references\n",
    "                best_rmse_test_sgd = rmse_test\n",
    "                best_k_sgd = K\n",
    "                best_user_feat_sgd = user_features\n",
    "                best_item_feat_sgd = item_features\n",
    "                best_lambda_user = lambda_user\n",
    "                best_lambda_item = lambda_item\n",
    "\n",
    "# print the results\n",
    "print(\"best number of features found : \", best_k_sgd)\n",
    "print(\"rmse on the test set for this number of features : \", best_rmse_test_sgd)\n",
    "print(\"best lambda user : \", best_lambda_user)\n",
    "print(\"best lambda item : \", best_lambda_item)"
   ]
  },
  {
   "cell_type": "code",
   "execution_count": 51,
   "metadata": {
    "collapsed": false
   },
   "outputs": [
    {
     "name": "stdout",
     "output_type": "stream",
     "text": [
      "('best number of features found : ', 6)\n",
      "('rmse on the test set for this number of features : ', 1.0104058955400144)\n",
      "('best lambda user : ', 1.0000000000000001e-05)\n",
      "('best lambda item : ', 0.0001)\n"
     ]
    }
   ],
   "source": [
    "# print the results\n",
    "print(\"best number of features found : \", best_k_sgd)\n",
    "print(\"rmse on the test set for this number of features : \", best_rmse_test_sgd)\n",
    "print(\"best lambda user : \", best_lambda_user)\n",
    "print(\"best lambda item : \", best_lambda_item)"
   ]
  },
  {
   "cell_type": "markdown",
   "metadata": {},
   "source": [
    "## 3) Prediction"
   ]
  },
  {
   "cell_type": "code",
   "execution_count": null,
   "metadata": {
    "collapsed": true
   },
   "outputs": [],
   "source": [
    "## prediction using same parameters and the best number of features found previously"
   ]
  },
  {
   "cell_type": "code",
   "execution_count": 38,
   "metadata": {
    "collapsed": false
   },
   "outputs": [
    {
     "name": "stdout",
     "output_type": "stream",
     "text": [
      "number of items: 10000, number of users: 1000\n"
     ]
    }
   ],
   "source": [
    "### A) Load the prediction data\n",
    "path_evaluation = \"datasets/sampleSubmission.csv\"\n",
    "ratings_submit = load_data(path_evaluation)\n",
    "evaluated_on = ratings_submit.toarray()\n",
    "evaluated_on = evaluated_on.astype(np.float)"
   ]
  },
  {
   "cell_type": "code",
   "execution_count": 40,
   "metadata": {
    "collapsed": false
   },
   "outputs": [
    {
     "name": "stdout",
     "output_type": "stream",
     "text": [
      "('best number of features found : ', 6)\n",
      "('rmse on the test set for this number of features : ', 1.0104058955400144)\n",
      "('best lambda user : ', 1.0000000000000001e-05)\n",
      "('best lambda item : ', 0.0001)\n"
     ]
    }
   ],
   "source": [
    "print(\"best number of features found : \", best_k_sgd)\n",
    "print(\"rmse on the test set for this number of features : \", best_rmse_test_sgd)\n",
    "print(\"best lambda user : \", best_lambda_user)\n",
    "print(\"best lambda item : \", best_lambda_item)"
   ]
  },
  {
   "cell_type": "code",
   "execution_count": null,
   "metadata": {
    "collapsed": false
   },
   "outputs": [
    {
     "name": "stdout",
     "output_type": "stream",
     "text": [
      "learn the matrix factorization using SGD...\n"
     ]
    }
   ],
   "source": [
    "# compute the prediction matrix for the best k and all the ratings\n",
    "# not only those for sufficient amount of data\n",
    "max_epochs = 40\n",
    "data_sub = ratings\n",
    "user_feat_sub, item_feat_sub, rmse_test = matrix_factorization_SGD(data_sub, \n",
    "                                                                   data_sub, best_k_sgd, max_epochs, \n",
    "                                                                   best_lambda_user, best_lambda_item, gamma)\n",
    "\n",
    "prediction = np.dot(np.transpose(item_feat_sub), user_feat_sub)\n",
    "print(\"prediction matrix computed\")"
   ]
  },
  {
   "cell_type": "code",
   "execution_count": null,
   "metadata": {
    "collapsed": false
   },
   "outputs": [],
   "source": [
    "# compute the csv file to store the results\n",
    "\n",
    "filename = \"datasets/result_submission_sgd.csv\"\n",
    "\n",
    "matrix2file(filename, prediction, evaluated_on)\n"
   ]
  },
  {
   "cell_type": "code",
   "execution_count": null,
   "metadata": {
    "collapsed": false
   },
   "outputs": [],
   "source": [
    "print(prediction[:10,:10])"
   ]
  },
  {
   "cell_type": "markdown",
   "metadata": {
    "collapsed": true
   },
   "source": [
    "## Going further : affine the parameters research, and save the values found "
   ]
  },
  {
   "cell_type": "code",
   "execution_count": null,
   "metadata": {
    "collapsed": false
   },
   "outputs": [
    {
     "name": "stdout",
     "output_type": "stream",
     "text": [
      "('matrix factorization for the number of features : ', 3)\n",
      "learn the matrix factorization using SGD...\n"
     ]
    }
   ],
   "source": [
    "## Parameters for the matrix factorization\n",
    "# maximum number of features fixed\n",
    "max_K = 9\n",
    "min_K= 3\n",
    "# incrementation step for K\n",
    "step_K = 1\n",
    "\n",
    "# number of full iterations of the stochastic gradient descent\n",
    "max_epochs = 30\n",
    "\n",
    "# regularization parameters (regularization of the loss function in Gradient Descent)\n",
    "range_lambda_user = np.logspace(-6, -4, 7) \n",
    "range_lambda_item = np.logspace(-5, -3, 7)\n",
    "#lambda_user = 1e-4\n",
    "#lambda_item = 1e-4 \n",
    "\n",
    "# descent step size\n",
    "gamma = 0.1\n",
    "\n",
    "# initialization of variables refering to the matrix factorization for the best number\n",
    "best_rmse_test_sgd = float('Inf')\n",
    "best_k_sgd = 0\n",
    "best_user_feat_sgd = np.zeros(1)\n",
    "best_item_feat_sgd = np.zeros(1)\n",
    "best_lambda_user = 0\n",
    "best_lambda_item =0\n",
    "\n",
    "param_rmse = []\n",
    "\n",
    "# for each lambdas of the grid \n",
    "# for each K of the grid, compute the matrix factorization (training set) and the rmse (test set), \n",
    "# If it improves the results, update the rmse\n",
    "\n",
    "for lambda_user in range_lambda_user:\n",
    "    \n",
    "    for lambda_item in range_lambda_item: \n",
    "        \n",
    "        for K in range(min_K,max_K,step_K):\n",
    "    \n",
    "            print(\"matrix factorization for the number of features : \", K)\n",
    "\n",
    "            # compute the stochastic gradient descent matrix factorization\n",
    "            user_features, item_features, rmse_test, rmse_train = matrix_factorization_SGD(train, test, \n",
    "                                                                               K, max_epochs, lambda_user, lambda_item, gamma)\n",
    "            \n",
    "            param_rmse.append((lambda_user,lambda_item,K, rmse_test, rmse_train))\n",
    "            if rmse_test < best_rmse_test_sgd:\n",
    "                # better rmse => update the references\n",
    "                best_rmse_test_sgd = rmse_test\n",
    "                best_k_sgd = K\n",
    "                best_user_feat_sgd = user_features\n",
    "                best_item_feat_sgd = item_features\n",
    "                best_lambda_user = lambda_user\n",
    "                best_lambda_item = lambda_item"
   ]
  },
  {
   "cell_type": "code",
   "execution_count": 57,
   "metadata": {
    "collapsed": false
   },
   "outputs": [
    {
     "name": "stdout",
     "output_type": "stream",
     "text": [
      "('k + pr\\xc3\\xa9cis : ', 7)\n"
     ]
    }
   ],
   "source": [
    "print(\"k + précis : \", best_k_sgd)"
   ]
  },
  {
   "cell_type": "code",
   "execution_count": 58,
   "metadata": {
    "collapsed": false
   },
   "outputs": [
    {
     "name": "stdout",
     "output_type": "stream",
     "text": [
      "('lambda_user & item + precis', 9.9999999999999995e-07, 2.1544346900318823e-05)\n"
     ]
    }
   ],
   "source": [
    "print(\"lambda_user & item + precis\", best_lambda_user, best_lambda_item)"
   ]
  },
  {
   "cell_type": "code",
   "execution_count": 59,
   "metadata": {
    "collapsed": false
   },
   "outputs": [
    {
     "name": "stdout",
     "output_type": "stream",
     "text": [
      "('rmse test', 1.0096982694547425)\n"
     ]
    }
   ],
   "source": [
    "print('rmse test', best_rmse_test_sgd)"
   ]
  },
  {
   "cell_type": "markdown",
   "metadata": {},
   "source": [
    "## 4) More precised predictions "
   ]
  },
  {
   "cell_type": "code",
   "execution_count": 14,
   "metadata": {
    "collapsed": true
   },
   "outputs": [],
   "source": [
    "# descent step size\n",
    "gamma = 0.1\n",
    "best_k_sgd = 7\n",
    "best_lambda_user = 1e-06\n",
    "best_lambda_item = 2.15443469003e-05\n"
   ]
  },
  {
   "cell_type": "code",
   "execution_count": 15,
   "metadata": {
    "collapsed": false
   },
   "outputs": [
    {
     "name": "stdout",
     "output_type": "stream",
     "text": [
      "number of items: 10000, number of users: 1000\n"
     ]
    }
   ],
   "source": [
    "### A) Load the prediction data\n",
    "path_evaluation = \"datasets/sampleSubmission.csv\"\n",
    "ratings_submit = load_data(path_evaluation)\n",
    "evaluated_on = ratings_submit.toarray()\n",
    "evaluated_on = evaluated_on.astype(np.float)"
   ]
  },
  {
   "cell_type": "code",
   "execution_count": null,
   "metadata": {
    "collapsed": false
   },
   "outputs": [
    {
     "name": "stdout",
     "output_type": "stream",
     "text": [
      "learn the matrix factorization using SGD...\n"
     ]
    }
   ],
   "source": [
    "# compute the prediction matrix for the best k and all the ratings\n",
    "# not only those for sufficient amount of data\n",
    "max_epochs = 120\n",
    "gamma = 0.05\n",
    "data_sub = ratings\n",
    "user_feat_sub, item_feat_sub, rmse_test, rmse_train = matrix_factorization_SGD(data_sub, \n",
    "                                                                   data_sub, best_k_sgd, max_epochs, \n",
    "                                                                   best_lambda_user, best_lambda_item, gamma)\n",
    "\n",
    "prediction = np.dot(np.transpose(item_feat_sub), user_feat_sub)\n",
    "print(\"prediction matrix computed\")"
   ]
  },
  {
   "cell_type": "code",
   "execution_count": null,
   "metadata": {
    "collapsed": false
   },
   "outputs": [],
   "source": [
    "# compute the csv file to store the results\n",
    "\n",
    "filename = \"datasets/result_submission_sgd.csv\"\n",
    "\n",
    "matrix2file(filename, prediction, evaluated_on)\n",
    "\n"
   ]
  },
  {
   "cell_type": "code",
   "execution_count": 62,
   "metadata": {
    "collapsed": false
   },
   "outputs": [
    {
     "name": "stdout",
     "output_type": "stream",
     "text": [
      "[(9.9999999999999995e-07, 1.0000000000000001e-05, 3, 1.014688483596708, 0.9840866305864359), (9.9999999999999995e-07, 1.0000000000000001e-05, 4, nan, nan), (9.9999999999999995e-07, 1.0000000000000001e-05, 5, 1.009789243688043, 0.9740288478970799), (9.9999999999999995e-07, 1.0000000000000001e-05, 6, 1.0101005073532552, 0.972773564207463), (9.9999999999999995e-07, 1.0000000000000001e-05, 7, 1.0097799487530221, 0.9719904699556959), (9.9999999999999995e-07, 1.0000000000000001e-05, 8, 1.0104219351248278, 0.9731610608192898), (9.9999999999999995e-07, 2.1544346900318823e-05, 3, 1.016339777132106, 0.9846944844646859), (9.9999999999999995e-07, 2.1544346900318823e-05, 4, nan, nan), (9.9999999999999995e-07, 2.1544346900318823e-05, 5, 1.0112670164301614, 0.9719864854278978), (9.9999999999999995e-07, 2.1544346900318823e-05, 6, 1.0105985750021873, 0.9719088473764599), (9.9999999999999995e-07, 2.1544346900318823e-05, 7, 1.0096982694547425, 0.9734010957831841), (9.9999999999999995e-07, 2.1544346900318823e-05, 8, 1.0104965607040046, 0.9726859529187539), (9.9999999999999995e-07, 4.6415888336127818e-05, 3, 1.0120191576746127, 0.9828092687107407), (9.9999999999999995e-07, 4.6415888336127818e-05, 4, nan, nan), (9.9999999999999995e-07, 4.6415888336127818e-05, 5, 1.0102653469147038, 0.9740568672133262), (9.9999999999999995e-07, 4.6415888336127818e-05, 6, nan, nan), (9.9999999999999995e-07, 4.6415888336127818e-05, 7, 1.0102323630665888, 0.9726671632373024), (9.9999999999999995e-07, 4.6415888336127818e-05, 8, 1.0105586486605842, 0.9728218115249939), (9.9999999999999995e-07, 0.0001, 3, 1.0127643427586868, 0.983391981336786), (9.9999999999999995e-07, 0.0001, 4, nan, nan), (9.9999999999999995e-07, 0.0001, 5, nan, nan), (9.9999999999999995e-07, 0.0001, 6, 1.0098097697825097, 0.9733724164293213), (9.9999999999999995e-07, 0.0001, 7, 1.0106496326228058, 0.9730209631694563), (9.9999999999999995e-07, 0.0001, 8, 1.0099991103912025, 0.9719320466330845), (9.9999999999999995e-07, 0.00021544346900318823, 3, 1.0125965727281618, 0.9833497801473634), (9.9999999999999995e-07, 0.00021544346900318823, 4, nan, nan), (9.9999999999999995e-07, 0.00021544346900318823, 5, nan, nan), (9.9999999999999995e-07, 0.00021544346900318823, 6, 1.0119372200082586, 0.9728082373368577), (9.9999999999999995e-07, 0.00021544346900318823, 7, 1.0110207773203717, 0.9714523636109103), (9.9999999999999995e-07, 0.00021544346900318823, 8, 1.0117218839232467, 0.9722979060343764), (9.9999999999999995e-07, 0.00046415888336127773, 3, 1.011798187478395, 0.982585460867576), (9.9999999999999995e-07, 0.00046415888336127773, 4, 1.0126849155628292, 0.976630813471925), (9.9999999999999995e-07, 0.00046415888336127773, 5, 1.010267902598307, 0.9735225647634305), (9.9999999999999995e-07, 0.00046415888336127773, 6, 1.010740674896704, 0.9733327917298117)]\n"
     ]
    }
   ],
   "source": [
    "print(param_rmse)"
   ]
  },
  {
   "cell_type": "code",
   "execution_count": 65,
   "metadata": {
    "collapsed": false
   },
   "outputs": [
    {
     "name": "stdout",
     "output_type": "stream",
     "text": [
      "1.00969826945\n",
      "7\n",
      "1e-06\n",
      "2.15443469003e-05\n"
     ]
    }
   ],
   "source": [
    "print(best_rmse_test_sgd)\n",
    "print(best_k_sgd)\n",
    "print(best_lambda_user)\n",
    "print(best_lambda_item)"
   ]
  },
  {
   "cell_type": "markdown",
   "metadata": {
    "collapsed": true
   },
   "source": [
    "## 5) Measure of the RMSEs as functions of max epochs"
   ]
  },
  {
   "cell_type": "code",
   "execution_count": 24,
   "metadata": {
    "collapsed": false
   },
   "outputs": [
    {
     "name": "stdout",
     "output_type": "stream",
     "text": [
      "number of items: 10000, number of users: 1000\n",
      "data loaded\n"
     ]
    }
   ],
   "source": [
    "#data loading and splitting \n",
    "### A) Load the data\n",
    "\n",
    "# write here the path to the dataset\n",
    "path_dataset = \"datasets/data_train.csv\"\n",
    "\n",
    "# load the data \n",
    "ratings = load_data(path_dataset)\n",
    "print(\"data loaded\")"
   ]
  },
  {
   "cell_type": "code",
   "execution_count": 26,
   "metadata": {
    "collapsed": false
   },
   "outputs": [
    {
     "data": {
      "image/png": "[encoded data removed]",
      "text/plain": [
       "<matplotlib.figure.Figure at 0x7f40b10e3fd0>"
      ]
     },
     "metadata": {},
     "output_type": "display_data"
    }
   ],
   "source": [
    "### B) Split the data\n",
    "\n",
    "# First get the numbers of ratings per user and ratings per film \n",
    "# And plot these values\n",
    "\n",
    "num_items_per_user, num_users_per_item = plot_raw_data(ratings)"
   ]
  },
  {
   "cell_type": "code",
   "execution_count": 29,
   "metadata": {
    "collapsed": false
   },
   "outputs": [
    {
     "name": "stdout",
     "output_type": "stream",
     "text": [
      "Total number of nonzero elements in origial data:1176952\n",
      "Total number of nonzero elements in train data:1059292\n",
      "Total number of nonzero elements in test data:117660\n",
      "data split : done\n"
     ]
    }
   ],
   "source": [
    "# Select the whole set\n",
    "\n",
    "# minimal number of data per user and per item\n",
    "min_num_ratings = 0 \n",
    "\n",
    "# fraction of the data set that will be the test set \n",
    "p_test = 0.1\n",
    "\n",
    "valid_ratings, train, test = split_data(ratings, num_items_per_user, num_users_per_item, min_num_ratings, p_test)\n",
    "# plot the resulting training and test set \n",
    "#plot_train_test_data(train, test)\n",
    "print(\"data split : done\")"
   ]
  },
  {
   "cell_type": "code",
   "execution_count": null,
   "metadata": {
    "collapsed": false
   },
   "outputs": [
    {
     "name": "stdout",
     "output_type": "stream",
     "text": [
      "('matrix factorization for the number of epochs : ', 10)\n",
      "learn the matrix factorization using SGD...\n"
     ]
    }
   ],
   "source": [
    "# train and test for differents max epochs and store the rmses\n",
    "max_epochs = [10,20,40,60,80,120,180]\n",
    "\n",
    "K = 7\n",
    "lambda_user = 1e-06\n",
    "lambda_item = 2.15*1e-05\n",
    "gamma = 0.1\n",
    "\n",
    "rmse_trains =[]\n",
    "rmse_tests = []\n",
    "\n",
    "for m in max_epochs:\n",
    "    print(\"matrix factorization for the number of epochs : \", m)\n",
    "\n",
    "    # compute the stochastic gradient descent matrix factorization\n",
    "    user_features, item_features, rmse_test, rmse_train = matrix_factorization_SGD(train, test, \n",
    "                                                                               K, m, lambda_user, lambda_item, gamma)\n",
    "    rmse_trains.append(rmse_train)\n",
    "    rmse_tests.append(rmse_test)"
   ]
  },
  {
   "cell_type": "code",
   "execution_count": 37,
   "metadata": {
    "collapsed": false
   },
   "outputs": [
    {
     "name": "stdout",
     "output_type": "stream",
     "text": [
      "[1.3926372706077395, 1.0818894962346253, 0.9589275181981276, 0.9581526759234594, 0.9581455203156259, 0.9581453306584408, 0.9581453305293471]\n"
     ]
    }
   ],
   "source": [
    "print(rmse_trains)"
   ]
  },
  {
   "cell_type": "code",
   "execution_count": 38,
   "metadata": {
    "collapsed": false
   },
   "outputs": [
    {
     "name": "stdout",
     "output_type": "stream",
     "text": [
      "[1.4100676239214054, 1.1111336615634582, 0.9994378324623796, 0.9989724163502047, 0.9989722637026248, 0.9989722598560767, 0.9989722598536304]\n"
     ]
    }
   ],
   "source": [
    "print(rmse_tests)"
   ]
  },
  {
   "cell_type": "code",
   "execution_count": 35,
   "metadata": {
    "collapsed": false
   },
   "outputs": [
    {
     "name": "stdout",
     "output_type": "stream",
     "text": [
      "40\n"
     ]
    }
   ],
   "source": []
  },
  {
   "cell_type": "code",
   "execution_count": null,
   "metadata": {
    "collapsed": true
   },
   "outputs": [],
   "source": []
  }
 ],
 "metadata": {
  "kernelspec": {
   "display_name": "Python 2",
   "language": "python",
   "name": "python2"
  },
  "language_info": {
   "codemirror_mode": {
    "name": "ipython",
    "version": 2
   },
   "file_extension": ".py",
   "mimetype": "text/x-python",
   "name": "python",
   "nbconvert_exporter": "python",
   "pygments_lexer": "ipython2",
   "version": "2.7.9"
  }
 },
 "nbformat": 4,
 "nbformat_minor": 0
}
